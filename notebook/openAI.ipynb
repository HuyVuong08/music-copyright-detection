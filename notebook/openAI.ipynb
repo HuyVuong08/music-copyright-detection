{
 "cells": [
  {
   "cell_type": "code",
   "execution_count": null,
   "metadata": {},
   "outputs": [],
   "source": [
    "# !pip install -r ../requirements.txt > ../.log"
   ]
  },
  {
   "cell_type": "code",
   "execution_count": 19,
   "metadata": {},
   "outputs": [],
   "source": [
    "import torch\n",
    "from transformers import AutoModelForSpeechSeq2Seq, AutoProcessor, pipeline\n",
    "from datasets import load_dataset\n",
    "import librosa\n",
    "import soundfile as sf\n",
    "from moviepy import VideoFileClip\n",
    "from openai import OpenAI\n",
    "import assemblyai as aai\n",
    "import yt_dlp"
   ]
  },
  {
   "cell_type": "code",
   "execution_count": null,
   "metadata": {},
   "outputs": [],
   "source": [
    "def read_api_keys(file_path):\n",
    "    api_keys = {}\n",
    "    with open(file_path, 'r') as file:\n",
    "        for line in file:\n",
    "            key, value = line.strip().split('=')\n",
    "            api_keys[key] = value.strip('\"')\n",
    "    return api_keys\n",
    "\n",
    "# Path to the .api-key file\n",
    "api_key_file_path = '../data/.api_keys'\n",
    "\n",
    "# Read and parse the .api-key file\n",
    "api_keys = read_api_keys(api_key_file_path)\n",
    "\n",
    "# Access the API keys\n",
    "openai_api_key = api_keys.get('openai')\n",
    "assemblyai_api_key = api_keys.get('assemblyai')\n",
    "\n",
    "# print(\"OpenAI API Key:\", openai_api_key)"
   ]
  },
  {
   "cell_type": "code",
   "execution_count": 4,
   "metadata": {},
   "outputs": [
    {
     "name": "stdout",
     "output_type": "stream",
     "text": [
      "{'video_found': True, 'audio_found': True, 'metadata': {'major_brand': 'isom', 'minor_version': '512', 'compatible_brands': 'isomiso2avc1mp41', 'encoder': 'Lavf61.1.100'}, 'inputs': [{'streams': [{'input_number': 0, 'stream_number': 0, 'stream_type': 'video', 'language': None, 'default': True, 'size': [1920, 1094], 'bitrate': 309, 'fps': 60.0, 'codec_name': 'h264', 'profile': '(High)', 'metadata': {'Metadata': '', 'handler_name': 'Core Media Video', 'vendor_id': '[0][0][0][0]', 'encoder': 'Lavc61.3.100 libx264'}}, {'input_number': 0, 'stream_number': 1, 'stream_type': 'audio', 'language': None, 'default': True, 'fps': 44100, 'bitrate': 189, 'metadata': {'Metadata': '', 'handler_name': 'Core Media Audio', 'vendor_id': '[0][0][0][0]'}}], 'input_number': 0}], 'duration': 18.82, 'bitrate': 512, 'start': 0.0, 'default_video_input_number': 0, 'default_video_stream_number': 0, 'video_codec_name': 'h264', 'video_profile': '(High)', 'video_size': [1920, 1094], 'video_bitrate': 309, 'video_fps': 60.0, 'default_audio_input_number': 0, 'default_audio_stream_number': 1, 'audio_fps': 44100, 'audio_bitrate': 189, 'video_duration': 18.82, 'video_n_frames': 1129}\n",
      "/opt/anaconda3/envs/music/lib/python3.12/site-packages/imageio_ffmpeg/binaries/ffmpeg-macos-aarch64-v7.1 -i ../data/video_easy.mp4 -loglevel error -f image2pipe -vf scale=1920:1094 -sws_flags bicubic -pix_fmt rgb24 -vcodec rawvideo -\n",
      "MoviePy - Writing audio in ../data/video_audio.mp3\n"
     ]
    },
    {
     "name": "stderr",
     "output_type": "stream",
     "text": [
      "                                                        "
     ]
    },
    {
     "name": "stdout",
     "output_type": "stream",
     "text": [
      "MoviePy - Done.\n"
     ]
    },
    {
     "name": "stderr",
     "output_type": "stream",
     "text": [
      "\r"
     ]
    }
   ],
   "source": [
    "def convert_mp4_to_mp3(mp4_file, mp3_file):\n",
    "    video_clip = VideoFileClip(mp4_file)\n",
    "    audio_clip = video_clip.audio\n",
    "    audio_clip.write_audiofile(mp3_file)\n",
    "    audio_clip.close()\n",
    "    video_clip.close()\n",
    "\n",
    "mp4_file = '../data/video_easy.mp4'\n",
    "audio_file = '../data/video_audio.mp3'\n",
    "convert_mp4_to_mp3(mp4_file, audio_file)"
   ]
  },
  {
   "cell_type": "code",
   "execution_count": 5,
   "metadata": {},
   "outputs": [
    {
     "name": "stdout",
     "output_type": "stream",
     "text": [
      "[youtube] Extracting URL: https://www.youtube.com/watch?v=7vglAmBc9tY\n",
      "[youtube] 7vglAmBc9tY: Downloading webpage\n",
      "[youtube] 7vglAmBc9tY: Downloading tv client config\n",
      "[youtube] 7vglAmBc9tY: Downloading player 91201489\n",
      "[youtube] 7vglAmBc9tY: Downloading tv player API JSON\n",
      "[youtube] 7vglAmBc9tY: Downloading ios player API JSON\n",
      "[youtube] 7vglAmBc9tY: Downloading m3u8 information\n",
      "[info] 7vglAmBc9tY: Downloading 1 format(s): 396+251\n",
      "Deleting existing file ../data/video.webm\n",
      "[download] Destination: ../data/video.f396.mp4\n",
      "[download] 100% of    7.53MiB in 00:00:00 at 23.02MiB/s    \n",
      "[download] Destination: ../data/video.f251.webm\n",
      "[download] 100% of    2.36MiB in 00:00:00 at 35.00MiB/s    \n",
      "[Merger] Merging formats into \"../data/video.webm\"\n",
      "Deleting original file ../data/video.f251.webm (pass -k to keep)\n",
      "Deleting original file ../data/video.f396.mp4 (pass -k to keep)\n"
     ]
    }
   ],
   "source": [
    "async def download_audio(youtube_url: str, output_path: str):\n",
    "    ydl_opts = {\n",
    "        'format': 'bestvideo+bestaudio/best',\n",
    "        'outtmpl': output_path,\n",
    "        'noplaylist': True,         # Ensure only the single video is downloaded\n",
    "        'overwrites': True,         # Overwrite the file if it already exists\n",
    "        # 'cookies': cookies_path,    # Use cookies file\n",
    "    }\n",
    "    with yt_dlp.YoutubeDL(ydl_opts) as ydl:\n",
    "        ydl.download([youtube_url])\n",
    "\n",
    "youtube_url = 'https://www.youtube.com/watch?v=7vglAmBc9tY'     # detroit lion\n",
    "audio_file = '../data/video.webm'\n",
    "await download_audio(youtube_url, audio_file)"
   ]
  },
  {
   "cell_type": "code",
   "execution_count": 11,
   "metadata": {},
   "outputs": [
    {
     "name": "stdout",
     "output_type": "stream",
     "text": [
      "Transcribed Text: ♪♪ Downtown Detroit, ready to open the 2024 season with higher hopes and more expectations than we've seen with this franchise in decades. Matter of fact, around the country, people are saying this is the team to beat. The Detroit Lions are the best team in football. That Super Bowl's 154 days away. There's a whole lot that has to happen before you even get close to touching that game in New Orleans. They've got to handle their business right here, right now. Come on, 5A! It's time to f***ing eat! All that f***ing work is for this s*** right here! And for this s*** right here, we're not the same! This different around here! Y'all need some inspiration? I'm gonna show y'all. Y'all need some f***ing standard? I'm gonna show y'all. One, two, three! One, two, three! We're in! Beat him up! Beat him up! Beat him up! Beat him up! I was here doubling the projects, mad at myself for putting it to the side. Mama had to cater for the coop that we rode after school on the way to pot pies. And n****s want to play both sides. It's a red dot, don't get on the wrong red eye. It's a headshot, and you can't rule them guys. F*** around and bury two of them guys. I'm on the advance, I'm on the address. I thought that I told you I need the advance. Put down your IG and look through my lens. A million to grandma, who did I offend? The girl of your dreams to me is a fan. I netted 10 million and did a lil' dance. I'm f***ing the world, I answer my pens. My Uncle G told me that I had a chance. So then I popped out and did it again. And did it again, and did it again. I cannot respect him, where did he begin? Advice from the council, let nobody in. Been swearing through rumors, avoiding the trends. And dug in the holes, I'm ducking the loonie that come with the shows. I'm grateful to Mama, he opened the doors. And f*** when they told us to come and compose. I reached to the stars, on my tippy toes. It's greater success when most n****s fold. I'll tell you my past, that s*** don't get old. But how could you ask? Like I don't be writing my raps. Big critics got everyone tapped. You gotta relax, the city where nobody sleeps. Just tap in it, that's where I'm at. In the critical moment, we controlled that game. We had control of this game, all right? We gave it away. Which, was that them or us? That was us, man. All the stuff that's been here, that has kept us from winning. If we really wanna go where we wanna go, we gotta get all the rest of this f*** out of our stuff, man. All this dirt, everything that's in our f***ing jeans. This last bit of losing's gotta get out of here. The s*** that f***ing crushes us. That costs you a f***ing game. Costs you a season. Costs you the playoffs. Costs you a championship game. Costs you a Super Bowl. Like that's the s*** we gotta get out, man. When we have a game, and we own that game, we finish that game.\n"
     ]
    }
   ],
   "source": [
    "def transcribe_audio_openai(audio_file_path):\n",
    "    # Initialize the client\n",
    "    client = OpenAI(api_key=openai_api_key)\n",
    "    # Upload and transcribe the audio file\n",
    "    with open(audio_file_path, 'rb') as audio_file:\n",
    "        response = client.audio.transcriptions.create(\n",
    "            model=\"whisper-1\",\n",
    "            file=audio_file\n",
    "        )\n",
    "    # Extract and return the transcription\n",
    "    return response.text\n",
    "\n",
    "# Transcribe audio using OpenAI Whisper API\n",
    "transcribed_text = transcribe_audio_openai(audio_file)\n",
    "print(\"Transcribed Text:\", transcribed_text)"
   ]
  },
  {
   "cell_type": "code",
   "execution_count": 12,
   "metadata": {},
   "outputs": [
    {
     "name": "stdout",
     "output_type": "stream",
     "text": [
      "Downtown Detroit ready to open the 2024 season with higher hopes and more expectations that we've seen with this franchise in decades. Matter of fact, around the country, people are saying this is the team to beat. The Detroit Lions are the best team in football. That Super bowl is 154 days away. There's a whole lot that has to happen before you even get close to touching that game in New Orleans. They gotta handle their business right here, right now. All that work is for this right here. It's for this right here. We not the same get different around here. Y'all need some inspiration I'mma show y'all Y'all need some standards I'mma show y'all one on three One, two, three Beat em up, beat em up beat em up, beat em up I was seeing double in the projects mad at myself learn to put it to the side Mama had to cater for the coop that we rode at the school on the way to Popeyes and niggas want to play both sides just a red dot don't get on the wrong red eye a headshot and can't woo them guys Fuck around and bag two of them guys I'm multi in Paris I'm multi impressed I thought that I told you I need the advance Put down your ig and look through my lens A million to grandma who did I offend? Miguela your dreams to me as a fan I needed 10 million and did a lil dance I'm fucking the world I am in my pants My uncle G told me that I had a chance so then I popped out and did it again and did it again and did it again I cannot respect him where did he begin? Advice from the council, let nobody in Been swearing through rumors avoiding the trends and thoughts Dugging the hoes I'm dugging the loony that come with the shows I'm grateful the mammoth, he opened the doors they walk on the tours on my tippy toes it's greatest success where most niggas fold I tell you my past that shit don't get old but how could you ask like I don't be riding my raps the critics got everyone tapped you gotta relax the city where nobody sleeps Just type in and ask where I'm at last night in the critical moment we control that game. We had control of this game, all right? We gave it away. Which was that, them or us? That was us, man. All the stuff that's been here that has kept us from winning if we really want to go where we want to go we got to get all the rest of this out of our stuff, man. All this dirt, everything that's in our. This last bit of losing has got to get out of here. The that crushes us. That cost you a game, cost you a season, cost you the playoffs, cost you a championship game, cost you a Super Bowl. Like, that's the. We gotta get out, man. When we have a game and we own that game, we finish that game.\n"
     ]
    }
   ],
   "source": [
    "# Replace with your API key\n",
    "aai.settings.api_key = assemblyai_api_key\n",
    "\n",
    "# URL of the file to transcribe\n",
    "FILE_URL = \"https://assembly.ai/wildfires.mp3\"\n",
    "\n",
    "# You can also transcribe a local file by passing in a file path\n",
    "# FILE_URL = './path/to/file.mp3'\n",
    "\n",
    "transcriber = aai.Transcriber()\n",
    "transcript = transcriber.transcribe(audio_file)\n",
    "\n",
    "print(transcript.text)"
   ]
  },
  {
   "cell_type": "code",
   "execution_count": null,
   "metadata": {},
   "outputs": [
    {
     "name": "stdout",
     "output_type": "stream",
     "text": [
      "Identified Song Name: The lyrics provided are from the song \"Family Ties\" by Baby Keem and Kendrick Lamar.\n"
     ]
    }
   ],
   "source": [
    "def identify_song_from_lyrics(lyrics):\n",
    "    # Initialize the client\n",
    "    client = OpenAI(api_key=openai_api_key)\n",
    "    # Create the prompt\n",
    "    prompt = f\"Identify the song from the following lyrics:\\n\\n{lyrics}\\n\\nSong name:\"\n",
    "    # Make the API call using the new format\n",
    "    response = client.chat.completions.create(\n",
    "        model=\"gpt-4o\",\n",
    "        messages=[\n",
    "            {\"role\": \"system\", \"content\": \"You are a helpful assistant.\"},\n",
    "            {\"role\": \"user\", \"content\": prompt}\n",
    "        ]\n",
    "    )\n",
    "    # Extract and return the response\n",
    "    return response.choices[0].message.content.strip()\n",
    "\n",
    "lyrics = transcript.text\n",
    "song_name = identify_song_from_lyrics(lyrics)\n",
    "print(\"Identified Song Name:\", song_name)"
   ]
  },
  {
   "cell_type": "code",
   "execution_count": null,
   "metadata": {},
   "outputs": [],
   "source": [
    "device = \"cuda:0\" if torch.cuda.is_available() else \"cpu\"\n",
    "torch_dtype = torch.float16 if torch.cuda.is_available() else torch.float32\n",
    "\n",
    "model_id = \"openai/whisper-large-v3\"\n",
    "\n",
    "model = AutoModelForSpeechSeq2Seq.from_pretrained(\n",
    "    model_id, torch_dtype=torch_dtype, low_cpu_mem_usage=True, use_safetensors=True\n",
    ")\n",
    "model.to(device)\n",
    "\n",
    "processor = AutoProcessor.from_pretrained(model_id)\n",
    "\n",
    "pipe = pipeline(\n",
    "    \"automatic-speech-recognition\",\n",
    "    model=model,\n",
    "    tokenizer=processor.tokenizer,\n",
    "    feature_extractor=processor.feature_extractor,\n",
    "    torch_dtype=torch_dtype,\n",
    "    device=device,\n",
    "    return_timestamps=True  # Enable long-form generation with timestamps\n",
    ")\n",
    "\n",
    "dataset = load_dataset(\"distil-whisper/librispeech_long\", \"clean\", split=\"validation\")\n",
    "sample = dataset[0][\"audio\"]"
   ]
  },
  {
   "cell_type": "code",
   "execution_count": null,
   "metadata": {},
   "outputs": [],
   "source": [
    "# result = pipe(sample)  \n",
    "# audio_file = '../data/track_audio.mp3'\n",
    "result = pipe(audio_file)\n",
    "\n",
    "print(result[\"text\"])\n"
   ]
  },
  {
   "cell_type": "code",
   "execution_count": null,
   "metadata": {},
   "outputs": [],
   "source": [
    "# client = OpenAI(\n",
    "#   api_key=openai_api_key,\n",
    "# )\n",
    "\n",
    "# completion = client.chat.completions.create(\n",
    "#   model=\"gpt-4o-mini\",\n",
    "#   store=True,\n",
    "#   messages=[\n",
    "#     {\"role\": \"user\", \"content\": \"write a haiku about ai\"}\n",
    "#   ]\n",
    "# )\n",
    "\n",
    "# print(completion.choices[0].message);\n"
   ]
  },
  {
   "cell_type": "code",
   "execution_count": null,
   "metadata": {},
   "outputs": [],
   "source": [
    "# !pip freeze | sed 's/ @ file:.*//' > ../requirements.txt"
   ]
  }
 ],
 "metadata": {
  "kernelspec": {
   "display_name": "music",
   "language": "python",
   "name": "python3"
  },
  "language_info": {
   "codemirror_mode": {
    "name": "ipython",
    "version": 3
   },
   "file_extension": ".py",
   "mimetype": "text/x-python",
   "name": "python",
   "nbconvert_exporter": "python",
   "pygments_lexer": "ipython3",
   "version": "3.12.8"
  }
 },
 "nbformat": 4,
 "nbformat_minor": 2
}
