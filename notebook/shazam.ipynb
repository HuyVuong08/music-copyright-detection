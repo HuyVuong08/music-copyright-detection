{
 "cells": [
  {
   "cell_type": "code",
   "execution_count": null,
   "metadata": {},
   "outputs": [],
   "source": [
    "# !pip install -r ../requirements.txt > ../.log"
   ]
  },
  {
   "cell_type": "code",
   "execution_count": 2,
   "metadata": {},
   "outputs": [],
   "source": [
    "import asyncio\n",
    "import os\n",
    "import yt_dlp\n",
    "import nest_asyncio\n",
    "from moviepy import VideoFileClip\n",
    "from pydub import AudioSegment\n",
    "from shazamio import Shazam\n",
    "from tabulate import tabulate\n",
    "import ssl\n",
    "import aiohttp"
   ]
  },
  {
   "cell_type": "code",
   "execution_count": 3,
   "metadata": {},
   "outputs": [
    {
     "name": "stdout",
     "output_type": "stream",
     "text": [
      "{'video_found': True, 'audio_found': True, 'metadata': {'major_brand': 'mp42', 'minor_version': '1', 'compatible_brands': 'isommp41mp42', 'creation_time': '2025-02-03T12:46:04.000000Z'}, 'inputs': [{'streams': [{'input_number': 0, 'stream_number': 0, 'stream_type': 'audio', 'language': 'eng', 'default': True, 'fps': 48000, 'bitrate': 110, 'metadata': {'Metadata': '', 'creation_time': '2025-02-03T12:46:04.000000Z', 'handler_name': 'Core Media Audio', 'vendor_id': '[0][0][0][0]'}}, {'input_number': 0, 'stream_number': 1, 'stream_type': 'video', 'language': None, 'default': True, 'size': [1920, 1080], 'bitrate': 19548, 'fps': 59.94, 'codec_name': 'h264', 'profile': '(High)', 'metadata': {'Metadata': '', 'creation_time': '2025-02-03T12:46:04.000000Z', 'handler_name': 'Core Media Video', 'vendor_id': '[0][0][0][0]'}}], 'input_number': 0}], 'duration': 146.07999999999998, 'bitrate': 19672, 'start': 0.0, 'default_audio_input_number': 0, 'default_audio_stream_number': 0, 'audio_fps': 48000, 'audio_bitrate': 110, 'default_video_input_number': 0, 'default_video_stream_number': 1, 'video_codec_name': 'h264', 'video_profile': '(High)', 'video_size': [1920, 1080], 'video_bitrate': 19548, 'video_fps': 59.94, 'video_duration': 146.07999999999998, 'video_n_frames': 8756}\n",
      "/opt/anaconda3/envs/music/lib/python3.12/site-packages/imageio_ffmpeg/binaries/ffmpeg-macos-aarch64-v7.1 -i ../data/video_3_songs_mixed.mp4 -loglevel error -f image2pipe -vf scale=1920:1080 -sws_flags bicubic -pix_fmt rgb24 -vcodec rawvideo -\n",
      "MoviePy - Writing audio in ../data/video_audio.mp3\n"
     ]
    },
    {
     "name": "stderr",
     "output_type": "stream",
     "text": [
      "                                                                      \r"
     ]
    },
    {
     "name": "stdout",
     "output_type": "stream",
     "text": [
      "MoviePy - Done.\n",
      "Segment 0: 0-6, Song: Sugar, Artist: Maroon 5, Album: Will Be Loved EP, Genre: Pop\n",
      "Segment 1: 6-12, Song: Sugar, Artist: Maroon 5, Album: Will Be Loved EP, Genre: Pop\n",
      "Segment 2: 12-18, Song: What Makes You Beautiful, Artist: One Direction, Album: Up All Night, Genre: Pop\n",
      "Segment 3: 18-24, Song: What Makes You Beautiful, Artist: One Direction, Album: Up All Night, Genre: Pop\n",
      "Segment 4: 24-30, Song: What Makes You Beautiful, Artist: One Direction, Album: Up All Night, Genre: Pop\n",
      "Segment 5: 30-36, Song: What Makes You Beautiful, Artist: One Direction, Album: Up All Night, Genre: Pop\n",
      "Segment 6: 36-42, Song: What Makes You Beautiful, Artist: One Direction, Album: Up All Night, Genre: Pop\n",
      "Segment 7: 42-48, Song: What Makes You Beautiful, Artist: One Direction, Album: Up All Night, Genre: Pop\n",
      "Could not recognize the track.\n",
      "Could not recognize the track.\n",
      "Could not recognize the track.\n",
      "Could not recognize the track.\n",
      "Could not recognize the track.\n",
      "Segment 13: 78-84, Song: Sugar, Artist: Maroon 5, Album: Will Be Loved EP, Genre: Pop\n",
      "Segment 14: 84-90, Song: Sugar, Artist: Maroon 5, Album: Will Be Loved EP, Genre: Pop\n",
      "Segment 15: 90-96, Song: Last Friday Night (T.G.I.F.), Artist: Katy Perry, Album: Teenage Dream, Genre: Teen Pop\n",
      "Segment 16: 96-102, Song: Last Friday Night (T.G.I.F.), Artist: Katy Perry, Album: Teenage Dream, Genre: Teen Pop\n",
      "Segment 17: 102-108, Song: Last Friday Night (T.G.I.F.), Artist: Katy Perry, Album: Teenage Dream, Genre: Teen Pop\n",
      "Segment 18: 108-114, Song: Last Friday Night (T.G.I.F.), Artist: Katy Perry, Album: Teenage Dream, Genre: Teen Pop\n",
      "Segment 19: 114-120, Song: What Makes You Beautiful, Artist: One Direction, Album: Up All Night, Genre: Pop\n",
      "Segment 20: 120-126, Song: What Makes You Beautiful, Artist: One Direction, Album: Up All Night, Genre: Pop\n",
      "Segment 21: 126-132, Song: What Makes You Beautiful, Artist: One Direction, Album: Up All Night, Genre: Pop\n",
      "Segment 22: 132-138, Song: What Makes You Beautiful, Artist: One Direction, Album: Up All Night, Genre: Pop\n",
      "Segment 23: 138-144, Song: What Makes You Beautiful, Artist: One Direction, Album: Up All Night, Genre: Pop\n",
      "Segment 24: 144-146, Song: What Makes You Beautiful, Artist: One Direction, Album: Up All Night, Genre: Pop\n"
     ]
    }
   ],
   "source": [
    "nest_asyncio.apply()\n",
    "\n",
    "# Disable SSL verification\n",
    "ssl_context = ssl.create_default_context()\n",
    "ssl_context.check_hostname = False\n",
    "ssl_context.verify_mode = ssl.CERT_NONE\n",
    "\n",
    "async def download_audio(youtube_url: str, output_path: str, cookies_path: str):\n",
    "    ydl_opts = {\n",
    "        'format': 'bestvideo+bestaudio/best',\n",
    "        'outtmpl': output_path,\n",
    "        'noplaylist': True,         # Ensure only the single video is downloaded\n",
    "        'overwrites': True,         # Overwrite the file if it already exists\n",
    "        'cookies': cookies_path,    # Use cookies file\n",
    "    }\n",
    "    with yt_dlp.YoutubeDL(ydl_opts) as ydl:\n",
    "        ydl.download([youtube_url])\n",
    "\n",
    "async def recognize_song_from_youtube(url):\n",
    "    ydl_opts = {\n",
    "        'format': 'bestaudio/best',\n",
    "        'postprocessors': [{\n",
    "            'key': 'FFmpegExtractAudio',\n",
    "            'preferredcodec': 'mp3',\n",
    "            'preferredquality': '192',\n",
    "        }],\n",
    "        'outtmpl': 'temp_audio.%(ext)s',\n",
    "        'quiet': True\n",
    "    }\n",
    "    with yt_dlp.YoutubeDL(ydl_opts) as ydl:\n",
    "        info_dict = ydl.extract_info(url, download=False)\n",
    "        audio_url = info_dict['url']\n",
    "    shazam = Shazam()\n",
    "    out = await shazam.recognize_song(audio_url)\n",
    "    if 'track' in out:\n",
    "        track = out['track']\n",
    "        song_title = track.get('title', 'Unknown Title')\n",
    "        artist_name = track.get('subtitle', 'Unknown Artist')\n",
    "        album_name = track.get('sections', [{}])[0].get('metadata', [{}])[0].get('text', 'Unknown Album')\n",
    "        genre = track.get('genres', {}).get('primary', 'Unknown Genre')\n",
    "        print(f\"Song: {song_title}, Artist: {artist_name}, Album: {album_name}, Genre: {genre}\")\n",
    "    else:\n",
    "        print(\"Could not recognize the track.\")\n",
    "\n",
    "async def recognize_track(file_path: str, segment_duration: int = 8):\n",
    "    shazam = Shazam()\n",
    "    audio = AudioSegment.from_file(file_path)\n",
    "    duration = len(audio) // 1000  # Convert to seconds\n",
    "    results = []\n",
    "    i = 0\n",
    "    for start in range(0, duration, segment_duration):\n",
    "        end = min(start + segment_duration, duration)\n",
    "        segment = audio[start * 1000:end * 1000]\n",
    "        file_path = f\"../data/temp_segment{i}.mp3\"\n",
    "        segment.export(file_path, format=\"mp3\")\n",
    "        out = await shazam.recognize(file_path)\n",
    "        os.remove(file_path)\n",
    "        # print(out)\n",
    "        if 'track' in out:\n",
    "            track = out['track']\n",
    "            song_title = track.get('title', 'Unknown Title')\n",
    "            artist_name = track.get('subtitle', 'Unknown Artist')\n",
    "            album_name = track.get('sections', [{}])[0].get('metadata', [{}])[0].get('text', 'Unknown Album')\n",
    "            genre = track.get('genres', {}).get('primary', 'Unknown Genre')\n",
    "            print(f\"Segment {i}: {start}-{end}, Song: {song_title}, Artist: {artist_name}, Album: {album_name}, Genre: {genre}\")\n",
    "            results.append({\n",
    "                'segment': i,\n",
    "                'start': start,\n",
    "                'end': end,\n",
    "                'song': song_title,\n",
    "                'artist': artist_name,\n",
    "                'album': album_name,\n",
    "                'genre': genre\n",
    "            })\n",
    "        else:\n",
    "            print(\"Could not recognize the track.\")\n",
    "            results.append({\n",
    "                'segment': i,\n",
    "                'start': start,\n",
    "                'end': end,\n",
    "                'song': \"None\",\n",
    "                'artist': None,\n",
    "                'album': None,\n",
    "                'genre': None\n",
    "            })\n",
    "        i += 1\n",
    "    return results\n",
    "\n",
    "def convert_mp4_to_mp3(mp4_file, mp3_file):\n",
    "    video_clip = VideoFileClip(mp4_file)\n",
    "    audio_clip = video_clip.audio\n",
    "    audio_clip.write_audiofile(mp3_file)\n",
    "    audio_clip.close()\n",
    "    video_clip.close()\n",
    "\n",
    "segment_duration = 6                                            # seconds\n",
    "cookies_file = '../data/cookies.txt'                            # Path to your cookies file\n",
    "# youtube_url = 'https://www.youtube.com/shorts/lTqjbKZZ9vk'      # hard\n",
    "# youtube_url = 'https://www.youtube.com/shorts/IykG5LsziGw'      # easy\n",
    "youtube_url = 'https://www.youtube.com/watch?v=7vglAmBc9tY'     # detroit lion\n",
    "# audio_file = '../data/video.webm'\n",
    "# await download_audio(youtube_url, audio_file, cookies_file)\n",
    "# audio_file = '../data/harder.mp3'\n",
    "# asyncio.run(recognize_song_from_youtube(youtube_url))\n",
    "\n",
    "mp4_file = '../data/video_3_songs_mixed.mp4'\n",
    "audio_file = '../data/video_audio.mp3'\n",
    "convert_mp4_to_mp3(mp4_file, audio_file)\n",
    "\n",
    "result = await recognize_track(audio_file, segment_duration)\n"
   ]
  },
  {
   "cell_type": "code",
   "execution_count": 4,
   "metadata": {},
   "outputs": [
    {
     "name": "stdout",
     "output_type": "stream",
     "text": [
      "Song                          Artist           Start (second)    End (second)\n",
      "Sugar                         Maroon 5                      0              12\n",
      "What Makes You Beautiful      One Direction                12              48\n",
      "None                                                       48              78\n",
      "Sugar                         Maroon 5                     78              90\n",
      "Last Friday Night (T.G.I.F.)  Katy Perry                   90             114\n",
      "What Makes You Beautiful      One Direction               114             146\n"
     ]
    }
   ],
   "source": [
    "songs = []\n",
    "cur = (result[0]['song'], result[0]['artist'])\n",
    "start = result[0]['start']\n",
    "end = result[0]['end']\n",
    "for x in result:\n",
    "    if x['song'] == cur[0] and x['artist'] == cur[1]:\n",
    "        end = x['end']\n",
    "    else:\n",
    "        songs.append((cur[0], cur[1], start, end))\n",
    "        cur = (x['song'], x['artist'])\n",
    "        start = x['start']\n",
    "        end = x['end']\n",
    "songs.append((cur[0], cur[1], start, end))\n",
    "\n",
    "headers = ['Song', 'Artist', 'Start (second)', 'End (second)']\n",
    "print(tabulate(songs, headers=headers, tablefmt='plain'))"
   ]
  },
  {
   "cell_type": "code",
   "execution_count": null,
   "metadata": {},
   "outputs": [],
   "source": [
    "# !pip freeze | sed 's/ @ file:.*//' > ../requirements.txt"
   ]
  }
 ],
 "metadata": {
  "kernelspec": {
   "display_name": "Python 3",
   "language": "python",
   "name": "python3"
  },
  "language_info": {
   "codemirror_mode": {
    "name": "ipython",
    "version": 3
   },
   "file_extension": ".py",
   "mimetype": "text/x-python",
   "name": "python",
   "nbconvert_exporter": "python",
   "pygments_lexer": "ipython3",
   "version": "3.11.6"
  }
 },
 "nbformat": 4,
 "nbformat_minor": 2
}
