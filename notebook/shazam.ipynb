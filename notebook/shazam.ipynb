{
 "cells": [
  {
   "cell_type": "code",
   "execution_count": 25,
   "metadata": {},
   "outputs": [
    {
     "name": "stdout",
     "output_type": "stream",
     "text": [
      "{'matches': [], 'location': {'accuracy': 0.01}, 'timestamp': 2244565607, 'timezone': 'Europe/Moscow', 'tagid': '525585C2-3967-4155-8339-450DC5B09003'}\n",
      "Could not recognize the track.\n"
     ]
    }
   ],
   "source": [
    "import asyncio\n",
    "from shazamio import Shazam\n",
    "import yt_dlp\n",
    "import nest_asyncio\n",
    "\n",
    "nest_asyncio.apply()\n",
    "\n",
    "async def download_audio(youtube_url: str, output_path: str):\n",
    "    ydl_opts = {\n",
    "        'format': 'bestaudio/best',\n",
    "        'outtmpl': output_path,\n",
    "        'postprocessors': [{\n",
    "            'key': 'FFmpegExtractAudio',\n",
    "            'preferredcodec': 'mp3',\n",
    "            'preferredquality': '192',\n",
    "        }],\n",
    "        'noplaylist': True,  # Ensure only the single video is downloaded\n",
    "        'overwrites': True,  # Overwrite the file if it already exists\n",
    "    }\n",
    "    with yt_dlp.YoutubeDL(ydl_opts) as ydl:\n",
    "        ydl.download([youtube_url])\n",
    "\n",
    "async def recognize_track(file_path: str):\n",
    "    shazam = Shazam()\n",
    "    out = await shazam.recognize(file_path)\n",
    "    print(out)\n",
    "    if 'track' in out:\n",
    "        track = out['track']\n",
    "        song_title = track.get('title', 'Unknown Title')\n",
    "        artist_name = track.get('subtitle', 'Unknown Artist')\n",
    "        print(f\"Song: {song_title}, Artist: {artist_name}\")\n",
    "    else:\n",
    "        print(\"Could not recognize the track.\")\n",
    "\n",
    "async def main():\n",
    "    # youtube_url = 'https://www.youtube.com/shorts/lTqjbKZZ9vk' # hard\n",
    "    # youtube_url = 'https://www.youtube.com/shorts/IykG5LsziGw' # easy\n",
    "    audio_file = '../data/hardest.mp3'\n",
    "    \n",
    "    # await download_audio(youtube_url, audio_file)\n",
    "    await recognize_track(audio_file)\n",
    "\n",
    "await main()"
   ]
  }
 ],
 "metadata": {
  "kernelspec": {
   "display_name": "Python 3",
   "language": "python",
   "name": "python3"
  },
  "language_info": {
   "codemirror_mode": {
    "name": "ipython",
    "version": 3
   },
   "file_extension": ".py",
   "mimetype": "text/x-python",
   "name": "python",
   "nbconvert_exporter": "python",
   "pygments_lexer": "ipython3",
   "version": "3.9.6"
  }
 },
 "nbformat": 4,
 "nbformat_minor": 2
}
