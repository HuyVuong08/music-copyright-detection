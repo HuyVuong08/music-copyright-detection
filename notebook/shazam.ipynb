{
 "cells": [
  {
   "cell_type": "code",
   "execution_count": 5,
   "metadata": {},
   "outputs": [
    {
     "name": "stdout",
     "output_type": "stream",
     "text": [
      "{'matches': [{'id': '446946230', 'offset': 40.40903125, 'timeskew': -0.00022161007, 'frequencyskew': -0.00090169907}, {'id': '358771124', 'offset': 39.5403125, 'timeskew': -0.015759349, 'frequencyskew': -0.0010733604}, {'id': '704035871', 'offset': 40.334214843, 'timeskew': 0.00075650215, 'frequencyskew': -0.0012074709}, {'id': '299474831', 'offset': 40.229578125, 'timeskew': -0.00015902519, 'frequencyskew': 0.0003222227}], 'location': {'accuracy': 0.01}, 'timestamp': 2309007964, 'timezone': 'Europe/Moscow', 'track': {'layout': '5', 'type': 'MUSIC', 'key': '273536255', 'title': 'Sugar', 'subtitle': 'Maroon 5', 'images': {'background': 'https://is1-ssl.mzstatic.com/image/thumb/AMCArtistImages116/v4/c3/3f/9a/c33f9a77-7395-bdfe-8068-a4b66d26531e/3ea423ea-6cf0-498a-a692-cc58da556f11_ami-identity-06acd526b8e5ef0283735a165e8eed70-2023-05-19T16-33-45.049Z_cropped.png/800x800cc.jpg', 'coverart': 'https://is1-ssl.mzstatic.com/image/thumb/Music115/v4/ac/20/32/ac203235-b03b-0e60-e03d-1ea1ee53aceb/14UMGIM31675.rgb.jpg/400x400cc.jpg', 'coverarthq': 'https://is1-ssl.mzstatic.com/image/thumb/Music115/v4/ac/20/32/ac203235-b03b-0e60-e03d-1ea1ee53aceb/14UMGIM31675.rgb.jpg/400x400cc.jpg', 'joecolor': 'b:6dace4p:0f0a0es:232233t:222b39q:313e56'}, 'share': {'subject': 'Sugar - Maroon 5', 'text': 'Sugar by Maroon 5', 'href': 'https://www.shazam.com/track/273536255/sugar', 'image': 'https://is1-ssl.mzstatic.com/image/thumb/Music115/v4/ac/20/32/ac203235-b03b-0e60-e03d-1ea1ee53aceb/14UMGIM31675.rgb.jpg/400x400cc.jpg', 'twitter': 'I used @Shazam to discover Sugar by Maroon 5.', 'html': 'https://www.shazam.com/snippets/email-share/273536255?lang=en-US&country=GB', 'avatar': 'https://is1-ssl.mzstatic.com/image/thumb/AMCArtistImages116/v4/c3/3f/9a/c33f9a77-7395-bdfe-8068-a4b66d26531e/3ea423ea-6cf0-498a-a692-cc58da556f11_ami-identity-06acd526b8e5ef0283735a165e8eed70-2023-05-19T16-33-45.049Z_cropped.png/800x800cc.jpg', 'snapchat': 'https://www.shazam.com/partner/sc/track/273536255'}, 'hub': {'type': 'APPLEMUSIC', 'image': 'https://images.shazam.com/static/icons/hub/web/v5/applemusic.png', 'actions': [{'name': 'apple', 'type': 'applemusicplay', 'id': '1422652341'}, {'name': 'apple', 'type': 'uri', 'uri': 'https://audio-ssl.itunes.apple.com/itunes-assets/AudioPreview122/v4/b7/59/d6/b759d6c0-d817-c95c-cf5b-ccdae41ff0f7/mzaf_14100567041763127460.plus.aac.ep.m4a'}], 'options': [{'caption': 'OPEN IN', 'actions': [{'name': 'hub:applemusic:deeplink', 'type': 'applemusicopen', 'uri': 'https://music.apple.com/gb/album/sugar/1422651829?i=1422652341&mttnagencyid=s2n&mttnsiteid=125115&mttn3pid=Apple-Shazam&mttnsub1=Shazam_web&mttnsub2=5348615A-616D-3235-3830-44754D6D5973&itscg=30201&app=music&itsct=Shazam_web'}, {'name': 'hub:applemusic:deeplink', 'type': 'uri', 'uri': 'https://music.apple.com/gb/album/sugar/1422651829?i=1422652341&mttnagencyid=s2n&mttnsiteid=125115&mttn3pid=Apple-Shazam&mttnsub1=Shazam_web&mttnsub2=5348615A-616D-3235-3830-44754D6D5973&itscg=30201&app=music&itsct=Shazam_web'}], 'beacondata': {'type': 'open', 'providername': 'applemusic'}, 'image': 'https://images.shazam.com/static/icons/hub/web/v5/overflow-open-option.png', 'type': 'open', 'listcaption': 'Open in Apple Music', 'overflowimage': 'https://images.shazam.com/static/icons/hub/web/v5/applemusic-overflow.png', 'colouroverflowimage': False, 'providername': 'applemusic'}], 'explicit': True, 'displayname': 'APPLE MUSIC'}, 'sections': [{'type': 'SONG', 'metapages': [{'image': 'https://is1-ssl.mzstatic.com/image/thumb/AMCArtistImages116/v4/c3/3f/9a/c33f9a77-7395-bdfe-8068-a4b66d26531e/3ea423ea-6cf0-498a-a692-cc58da556f11_ami-identity-06acd526b8e5ef0283735a165e8eed70-2023-05-19T16-33-45.049Z_cropped.png/800x800cc.jpg', 'caption': 'Maroon 5'}, {'image': 'https://is1-ssl.mzstatic.com/image/thumb/Music115/v4/ac/20/32/ac203235-b03b-0e60-e03d-1ea1ee53aceb/14UMGIM31675.rgb.jpg/400x400cc.jpg', 'caption': 'Sugar'}], 'tabname': 'Song', 'metadata': [{'title': 'Album', 'text': 'V (Deluxe)'}, {'title': 'Label', 'text': 'Interscope Records*'}, {'title': 'Released', 'text': '2014'}]}, {'type': 'RELATED', 'url': 'https://cdn.shazam.com/shazam/v3/en-US/GB/web/-/tracks/track-similarities-id-273536255?startFrom=0&pageSize=20&connected=', 'tabname': 'Related'}], 'url': 'https://www.shazam.com/track/273536255/sugar', 'artists': [{'alias': 'maroon-5', 'id': '42', 'adamid': '1798556'}], 'alias': 'sugar', 'isrc': 'USUM71410340', 'genres': {'primary': 'Pop'}, 'urlparams': {'{tracktitle}': 'Sugar', '{trackartist}': 'Maroon+5'}, 'highlightsurls': {}, 'relatedtracksurl': 'https://cdn.shazam.com/shazam/v3/en-US/GB/web/-/tracks/track-similarities-id-273536255?startFrom=0&pageSize=20&connected=', 'albumadamid': '1422651829', 'trackadamid': '1422652341', 'releasedate': '29-08-2014'}, 'tagid': '3AC5F9FC-6134-4606-BD99-D5A7071514CC'}\n",
      "Song: Sugar, Artist: Maroon 5\n"
     ]
    }
   ],
   "source": [
    "import asyncio\n",
    "from shazamio import Shazam\n",
    "import yt_dlp\n",
    "import nest_asyncio\n",
    "\n",
    "nest_asyncio.apply()\n",
    "\n",
    "async def download_audio(youtube_url: str, output_path: str):\n",
    "    ydl_opts = {\n",
    "        'format': 'bestaudio/best',\n",
    "        'outtmpl': output_path,\n",
    "        'postprocessors': [{\n",
    "            'key': 'FFmpegExtractAudio',\n",
    "            'preferredcodec': 'mp3',\n",
    "            'preferredquality': '192',\n",
    "        }],\n",
    "        'noplaylist': True,  # Ensure only the single video is downloaded\n",
    "        'overwrites': True,  # Overwrite the file if it already exists\n",
    "    }\n",
    "    with yt_dlp.YoutubeDL(ydl_opts) as ydl:\n",
    "        ydl.download([youtube_url])\n",
    "\n",
    "async def recognize_track(file_path: str):\n",
    "    shazam = Shazam()\n",
    "    out = await shazam.recognize(file_path)\n",
    "    print(out)\n",
    "    if 'track' in out:\n",
    "        track = out['track']\n",
    "        song_title = track.get('title', 'Unknown Title')\n",
    "        artist_name = track.get('subtitle', 'Unknown Artist')\n",
    "        print(f\"Song: {song_title}, Artist: {artist_name}\")\n",
    "    else:\n",
    "        print(\"Could not recognize the track.\")\n",
    "\n",
    "async def main():\n",
    "    # youtube_url = 'https://www.youtube.com/shorts/lTqjbKZZ9vk' # hard\n",
    "    # youtube_url = 'https://www.youtube.com/shorts/IykG5LsziGw' # easy\n",
    "    # audio_file = '../data/track_audio.mp3'\n",
    "    # await download_audio(youtube_url, audio_file)\n",
    "\n",
    "    audio_file = '../data/harder.mp3'\n",
    "    \n",
    "    await recognize_track(audio_file)\n",
    "\n",
    "await main()"
   ]
  }
 ],
 "metadata": {
  "kernelspec": {
   "display_name": "Python 3",
   "language": "python",
   "name": "python3"
  },
  "language_info": {
   "codemirror_mode": {
    "name": "ipython",
    "version": 3
   },
   "file_extension": ".py",
   "mimetype": "text/x-python",
   "name": "python",
   "nbconvert_exporter": "python",
   "pygments_lexer": "ipython3",
   "version": "3.12.1"
  }
 },
 "nbformat": 4,
 "nbformat_minor": 2
}
