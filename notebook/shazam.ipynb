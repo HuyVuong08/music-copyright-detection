{
 "cells": [
  {
   "cell_type": "code",
   "execution_count": 1,
   "metadata": {},
   "outputs": [
    {
     "name": "stdout",
     "output_type": "stream",
     "text": [
      "{'video_found': True, 'audio_found': True, 'metadata': {'major_brand': 'mp42', 'minor_version': '1', 'compatible_brands': 'isommp41mp42', 'creation_time': '2025-02-02T22:36:00.000000Z'}, 'inputs': [{'streams': [{'input_number': 0, 'stream_number': 0, 'stream_type': 'audio', 'language': 'eng', 'default': True, 'fps': 48000, 'bitrate': 107, 'metadata': {'Metadata': '', 'creation_time': '2025-02-02T22:36:00.000000Z', 'handler_name': 'Core Media Audio', 'vendor_id': '[0][0][0][0]'}}, {'input_number': 0, 'stream_number': 1, 'stream_type': 'video', 'language': None, 'default': True, 'size': [1920, 1080], 'bitrate': 18753, 'fps': 59.94, 'codec_name': 'h264', 'profile': '(High)', 'metadata': {'Metadata': '', 'creation_time': '2025-02-02T22:36:00.000000Z', 'handler_name': 'Core Media Video', 'vendor_id': '[0][0][0][0]'}}], 'input_number': 0}], 'duration': 48.82, 'bitrate': 18894, 'start': 0.0, 'default_audio_input_number': 0, 'default_audio_stream_number': 0, 'audio_fps': 48000, 'audio_bitrate': 107, 'default_video_input_number': 0, 'default_video_stream_number': 1, 'video_codec_name': 'h264', 'video_profile': '(High)', 'video_size': [1920, 1080], 'video_bitrate': 18753, 'video_fps': 59.94, 'video_duration': 48.82, 'video_n_frames': 2926}\n",
      "/Users/jamievuong/Library/Python/3.9/lib/python/site-packages/imageio_ffmpeg/binaries/ffmpeg-macos-aarch64-v7.1 -i ../data/video_2_songs_easy.mp4 -loglevel error -f image2pipe -vf scale=1920:1080 -sws_flags bicubic -pix_fmt rgb24 -vcodec rawvideo -\n",
      "MoviePy - Writing audio in ../data/video_audio.mp3\n"
     ]
    },
    {
     "name": "stderr",
     "output_type": "stream",
     "text": [
      "                                                                     \r"
     ]
    },
    {
     "name": "stdout",
     "output_type": "stream",
     "text": [
      "MoviePy - Done.\n",
      "[{'segment': 0, 'start': 0, 'end': 5, 'song': 'Sugar', 'artist': 'Maroon 5', 'album': 'V (Deluxe)', 'genre': 'Pop'}, {'segment': 1, 'start': 5, 'end': 10, 'song': 'Sugar', 'artist': 'Maroon 5', 'album': 'V (Deluxe)', 'genre': 'Pop'}, {'segment': 2, 'start': 10, 'end': 15, 'song': 'Sugar', 'artist': 'Maroon 5', 'album': 'V (Deluxe)', 'genre': 'Pop'}, {'segment': 3, 'start': 15, 'end': 20, 'song': 'What Makes You Beautiful', 'artist': 'One Direction', 'album': 'Up All Night', 'genre': 'Pop'}, {'segment': 4, 'start': 20, 'end': 25, 'song': 'What Makes You Beautiful', 'artist': 'One Direction', 'album': 'Up All Night', 'genre': 'Pop'}, {'segment': 5, 'start': 25, 'end': 30, 'song': 'What Makes You Beautiful', 'artist': 'One Direction', 'album': 'Up All Night', 'genre': 'Pop'}, {'segment': 6, 'start': 30, 'end': 35, 'song': 'What Makes You Beautiful', 'artist': 'One Direction', 'album': 'Up All Night', 'genre': 'Pop'}, {'segment': 7, 'start': 35, 'end': 40, 'song': 'What Makes You Beautiful', 'artist': 'One Direction', 'album': 'Up All Night', 'genre': 'Pop'}, {'segment': 8, 'start': 40, 'end': 45, 'song': 'What Makes You Beautiful', 'artist': 'One Direction', 'album': 'Up All Night', 'genre': 'Pop'}, {'segment': 9, 'start': 45, 'end': 48, 'song': 'What Makes You Beautiful', 'artist': 'One Direction', 'album': 'Up All Night', 'genre': 'Pop'}]\n"
     ]
    }
   ],
   "source": [
    "import asyncio\n",
    "import os\n",
    "from pydub import AudioSegment\n",
    "from shazamio import Shazam\n",
    "import yt_dlp\n",
    "import nest_asyncio\n",
    "from moviepy import VideoFileClip\n",
    "\n",
    "nest_asyncio.apply()\n",
    "\n",
    "async def download_audio(youtube_url: str, output_path: str, cookies_path: str):\n",
    "    ydl_opts = {\n",
    "        'format': 'bestvideo+bestaudio/best',\n",
    "        'outtmpl': output_path,\n",
    "        'noplaylist': True,         # Ensure only the single video is downloaded\n",
    "        'overwrites': True,         # Overwrite the file if it already exists\n",
    "        'cookies': cookies_path,    # Use cookies file\n",
    "    }\n",
    "    with yt_dlp.YoutubeDL(ydl_opts) as ydl:\n",
    "        ydl.download([youtube_url])\n",
    "\n",
    "async def recognize_track(file_path: str, segment_duration: int = 8):\n",
    "    shazam = Shazam()\n",
    "    audio = AudioSegment.from_file(file_path)\n",
    "    duration = len(audio) // 1000  # Convert to seconds\n",
    "    results = []\n",
    "    i = 0\n",
    "    for start in range(0, duration, segment_duration):\n",
    "        end = min(start + segment_duration, duration)\n",
    "        segment = audio[start * 1000:end * 1000]\n",
    "        file_path = f\"../data/temp_segment{i}.mp3\"\n",
    "        segment.export(file_path, format=\"mp3\")\n",
    "        out = await shazam.recognize(file_path)\n",
    "        os.remove(file_path)\n",
    "        # print(out)\n",
    "        if 'track' in out:\n",
    "            track = out['track']\n",
    "            song_title = track.get('title', 'Unknown Title')\n",
    "            artist_name = track.get('subtitle', 'Unknown Artist')\n",
    "            album_name = track.get('sections', [{}])[0].get('metadata', [{}])[0].get('text', 'Unknown Album')\n",
    "            genre = track.get('genres', {}).get('primary', 'Unknown Genre')\n",
    "            # print(f\"Segment {i}: {start}-{end}, Song: {song_title}, Artist: {artist_name}, Album: {album_name}, Genre: {genre}\")\n",
    "            results.append({\n",
    "                'segment': i,\n",
    "                'start': start,\n",
    "                'end': end,\n",
    "                'song': song_title,\n",
    "                'artist': artist_name,\n",
    "                'album': album_name,\n",
    "                'genre': genre\n",
    "            })\n",
    "        else:\n",
    "            # print(\"Could not recognize the track.\")\n",
    "            results.append({\n",
    "                'segment': i,\n",
    "                'start': start,\n",
    "                'end': end,\n",
    "                'song': None,\n",
    "                'artist': None,\n",
    "                'album': None,\n",
    "                'genre': None\n",
    "            })\n",
    "        i += 1\n",
    "    return results\n",
    "\n",
    "def convert_mp4_to_mp3(mp4_file, mp3_file):\n",
    "    video_clip = VideoFileClip(mp4_file)\n",
    "    audio_clip = video_clip.audio\n",
    "    audio_clip.write_audiofile(mp3_file)\n",
    "    audio_clip.close()\n",
    "    video_clip.close()\n",
    "\n",
    "async def main():\n",
    "    segment_duration = 5                                            # seconds\n",
    "    cookies_file = '../data/cookies.txt'                            # Path to your cookies file\n",
    "    # youtube_url = 'https://www.youtube.com/shorts/lTqjbKZZ9vk'      # hard\n",
    "    # youtube_url = 'https://www.youtube.com/shorts/IykG5LsziGw'      # easy\n",
    "    # youtube_url = 'https://www.youtube.com/watch?v=7vglAmBc9tY'     # detroit lion\n",
    "    # audio_file = '../data/video.webm'\n",
    "    # await download_audio(youtube_url, audio_file, cookies_file)\n",
    "\n",
    "    # audio_file = '../data/harder.mp3'\n",
    "\n",
    "    mp4_file = '../data/video_2_songs_easy.mp4'\n",
    "    audio_file = '../data/video_audio.mp3'\n",
    "    convert_mp4_to_mp3(mp4_file, audio_file)\n",
    "\n",
    "    result = await recognize_track(audio_file, segment_duration)\n",
    "    print(result)\n",
    "\n",
    "await main()\n"
   ]
  }
 ],
 "metadata": {
  "kernelspec": {
   "display_name": "Python 3",
   "language": "python",
   "name": "python3"
  },
  "language_info": {
   "codemirror_mode": {
    "name": "ipython",
    "version": 3
   },
   "file_extension": ".py",
   "mimetype": "text/x-python",
   "name": "python",
   "nbconvert_exporter": "python",
   "pygments_lexer": "ipython3",
   "version": "3.9.6"
  }
 },
 "nbformat": 4,
 "nbformat_minor": 2
}
