{
 "cells": [
  {
   "cell_type": "code",
<<<<<<< HEAD
<<<<<<< HEAD
<<<<<<< HEAD
<<<<<<< HEAD
<<<<<<< HEAD
<<<<<<< HEAD
   "execution_count": null,
   "metadata": {},
   "outputs": [],
   "source": [
    "# !pip install -r ../requirements.txt > ../.log"
   ]
  },
  {
   "cell_type": "code",
   "execution_count": 2,
   "metadata": {},
   "outputs": [],
   "source": [
    "import asyncio\n",
    "import os\n",
    "import yt_dlp\n",
    "import nest_asyncio\n",
    "from moviepy import VideoFileClip\n",
    "from pydub import AudioSegment\n",
    "from shazamio import Shazam\n",
    "from tabulate import tabulate\n",
    "import ssl\n",
    "import aiohttp"
   ]
  },
  {
   "cell_type": "code",
   "execution_count": 3,
=======
   "execution_count": 29,
>>>>>>> refs/remotes/origin/main
=======
   "execution_count": 29,
>>>>>>> refs/remotes/origin/main
=======
   "execution_count": 29,
>>>>>>> refs/remotes/origin/main
=======
   "execution_count": 29,
>>>>>>> refs/remotes/origin/main
=======
   "execution_count": 29,
>>>>>>> refs/remotes/origin/main
=======
   "execution_count": 29,
>>>>>>> refs/remotes/origin/main
   "metadata": {},
   "outputs": [
    {
     "name": "stdout",
     "output_type": "stream",
     "text": [
<<<<<<< HEAD
<<<<<<< HEAD
<<<<<<< HEAD
<<<<<<< HEAD
<<<<<<< HEAD
<<<<<<< HEAD
      "{'video_found': True, 'audio_found': True, 'metadata': {'major_brand': 'mp42', 'minor_version': '1', 'compatible_brands': 'isommp41mp42', 'creation_time': '2025-02-03T12:46:04.000000Z'}, 'inputs': [{'streams': [{'input_number': 0, 'stream_number': 0, 'stream_type': 'audio', 'language': 'eng', 'default': True, 'fps': 48000, 'bitrate': 110, 'metadata': {'Metadata': '', 'creation_time': '2025-02-03T12:46:04.000000Z', 'handler_name': 'Core Media Audio', 'vendor_id': '[0][0][0][0]'}}, {'input_number': 0, 'stream_number': 1, 'stream_type': 'video', 'language': None, 'default': True, 'size': [1920, 1080], 'bitrate': 19548, 'fps': 59.94, 'codec_name': 'h264', 'profile': '(High)', 'metadata': {'Metadata': '', 'creation_time': '2025-02-03T12:46:04.000000Z', 'handler_name': 'Core Media Video', 'vendor_id': '[0][0][0][0]'}}], 'input_number': 0}], 'duration': 146.07999999999998, 'bitrate': 19672, 'start': 0.0, 'default_audio_input_number': 0, 'default_audio_stream_number': 0, 'audio_fps': 48000, 'audio_bitrate': 110, 'default_video_input_number': 0, 'default_video_stream_number': 1, 'video_codec_name': 'h264', 'video_profile': '(High)', 'video_size': [1920, 1080], 'video_bitrate': 19548, 'video_fps': 59.94, 'video_duration': 146.07999999999998, 'video_n_frames': 8756}\n",
      "/opt/anaconda3/envs/music/lib/python3.12/site-packages/imageio_ffmpeg/binaries/ffmpeg-macos-aarch64-v7.1 -i ../data/video_3_songs_mixed.mp4 -loglevel error -f image2pipe -vf scale=1920:1080 -sws_flags bicubic -pix_fmt rgb24 -vcodec rawvideo -\n",
=======
      "{'video_found': True, 'audio_found': True, 'metadata': {'major_brand': 'isom', 'minor_version': '512', 'compatible_brands': 'isomiso2avc1mp41', 'encoder': 'Lavf61.1.100'}, 'inputs': [{'streams': [{'input_number': 0, 'stream_number': 0, 'stream_type': 'video', 'language': None, 'default': True, 'size': [1920, 1094], 'bitrate': 1089, 'fps': 60.0, 'codec_name': 'h264', 'profile': '(High)', 'metadata': {'Metadata': '', 'handler_name': 'Core Media Video', 'vendor_id': '[0][0][0][0]', 'encoder': 'Lavc61.3.100 libx264'}}, {'input_number': 0, 'stream_number': 1, 'stream_type': 'audio', 'language': None, 'default': True, 'fps': 44100, 'bitrate': 193, 'metadata': {'Metadata': '', 'handler_name': 'Core Media Audio', 'vendor_id': '[0][0][0][0]'}}], 'input_number': 0}], 'duration': 16.26, 'bitrate': 1296, 'start': 0.0, 'default_video_input_number': 0, 'default_video_stream_number': 0, 'video_codec_name': 'h264', 'video_profile': '(High)', 'video_size': [1920, 1094], 'video_bitrate': 1089, 'video_fps': 60.0, 'default_audio_input_number': 0, 'default_audio_stream_number': 1, 'audio_fps': 44100, 'audio_bitrate': 193, 'video_duration': 16.26, 'video_n_frames': 975}\n",
      "/Users/jamievuong/Library/Python/3.9/lib/python/site-packages/imageio_ffmpeg/binaries/ffmpeg-macos-aarch64-v7.1 -i ../data/video_hardest.mp4 -loglevel error -f image2pipe -vf scale=1920:1094 -sws_flags bicubic -pix_fmt rgb24 -vcodec rawvideo -\n",
>>>>>>> refs/remotes/origin/main
=======
      "{'video_found': True, 'audio_found': True, 'metadata': {'major_brand': 'isom', 'minor_version': '512', 'compatible_brands': 'isomiso2avc1mp41', 'encoder': 'Lavf61.1.100'}, 'inputs': [{'streams': [{'input_number': 0, 'stream_number': 0, 'stream_type': 'video', 'language': None, 'default': True, 'size': [1920, 1094], 'bitrate': 1089, 'fps': 60.0, 'codec_name': 'h264', 'profile': '(High)', 'metadata': {'Metadata': '', 'handler_name': 'Core Media Video', 'vendor_id': '[0][0][0][0]', 'encoder': 'Lavc61.3.100 libx264'}}, {'input_number': 0, 'stream_number': 1, 'stream_type': 'audio', 'language': None, 'default': True, 'fps': 44100, 'bitrate': 193, 'metadata': {'Metadata': '', 'handler_name': 'Core Media Audio', 'vendor_id': '[0][0][0][0]'}}], 'input_number': 0}], 'duration': 16.26, 'bitrate': 1296, 'start': 0.0, 'default_video_input_number': 0, 'default_video_stream_number': 0, 'video_codec_name': 'h264', 'video_profile': '(High)', 'video_size': [1920, 1094], 'video_bitrate': 1089, 'video_fps': 60.0, 'default_audio_input_number': 0, 'default_audio_stream_number': 1, 'audio_fps': 44100, 'audio_bitrate': 193, 'video_duration': 16.26, 'video_n_frames': 975}\n",
      "/Users/jamievuong/Library/Python/3.9/lib/python/site-packages/imageio_ffmpeg/binaries/ffmpeg-macos-aarch64-v7.1 -i ../data/video_hardest.mp4 -loglevel error -f image2pipe -vf scale=1920:1094 -sws_flags bicubic -pix_fmt rgb24 -vcodec rawvideo -\n",
>>>>>>> refs/remotes/origin/main
=======
      "{'video_found': True, 'audio_found': True, 'metadata': {'major_brand': 'isom', 'minor_version': '512', 'compatible_brands': 'isomiso2avc1mp41', 'encoder': 'Lavf61.1.100'}, 'inputs': [{'streams': [{'input_number': 0, 'stream_number': 0, 'stream_type': 'video', 'language': None, 'default': True, 'size': [1920, 1094], 'bitrate': 1089, 'fps': 60.0, 'codec_name': 'h264', 'profile': '(High)', 'metadata': {'Metadata': '', 'handler_name': 'Core Media Video', 'vendor_id': '[0][0][0][0]', 'encoder': 'Lavc61.3.100 libx264'}}, {'input_number': 0, 'stream_number': 1, 'stream_type': 'audio', 'language': None, 'default': True, 'fps': 44100, 'bitrate': 193, 'metadata': {'Metadata': '', 'handler_name': 'Core Media Audio', 'vendor_id': '[0][0][0][0]'}}], 'input_number': 0}], 'duration': 16.26, 'bitrate': 1296, 'start': 0.0, 'default_video_input_number': 0, 'default_video_stream_number': 0, 'video_codec_name': 'h264', 'video_profile': '(High)', 'video_size': [1920, 1094], 'video_bitrate': 1089, 'video_fps': 60.0, 'default_audio_input_number': 0, 'default_audio_stream_number': 1, 'audio_fps': 44100, 'audio_bitrate': 193, 'video_duration': 16.26, 'video_n_frames': 975}\n",
      "/Users/jamievuong/Library/Python/3.9/lib/python/site-packages/imageio_ffmpeg/binaries/ffmpeg-macos-aarch64-v7.1 -i ../data/video_hardest.mp4 -loglevel error -f image2pipe -vf scale=1920:1094 -sws_flags bicubic -pix_fmt rgb24 -vcodec rawvideo -\n",
>>>>>>> refs/remotes/origin/main
=======
      "{'video_found': True, 'audio_found': True, 'metadata': {'major_brand': 'isom', 'minor_version': '512', 'compatible_brands': 'isomiso2avc1mp41', 'encoder': 'Lavf61.1.100'}, 'inputs': [{'streams': [{'input_number': 0, 'stream_number': 0, 'stream_type': 'video', 'language': None, 'default': True, 'size': [1920, 1094], 'bitrate': 1089, 'fps': 60.0, 'codec_name': 'h264', 'profile': '(High)', 'metadata': {'Metadata': '', 'handler_name': 'Core Media Video', 'vendor_id': '[0][0][0][0]', 'encoder': 'Lavc61.3.100 libx264'}}, {'input_number': 0, 'stream_number': 1, 'stream_type': 'audio', 'language': None, 'default': True, 'fps': 44100, 'bitrate': 193, 'metadata': {'Metadata': '', 'handler_name': 'Core Media Audio', 'vendor_id': '[0][0][0][0]'}}], 'input_number': 0}], 'duration': 16.26, 'bitrate': 1296, 'start': 0.0, 'default_video_input_number': 0, 'default_video_stream_number': 0, 'video_codec_name': 'h264', 'video_profile': '(High)', 'video_size': [1920, 1094], 'video_bitrate': 1089, 'video_fps': 60.0, 'default_audio_input_number': 0, 'default_audio_stream_number': 1, 'audio_fps': 44100, 'audio_bitrate': 193, 'video_duration': 16.26, 'video_n_frames': 975}\n",
      "/Users/jamievuong/Library/Python/3.9/lib/python/site-packages/imageio_ffmpeg/binaries/ffmpeg-macos-aarch64-v7.1 -i ../data/video_hardest.mp4 -loglevel error -f image2pipe -vf scale=1920:1094 -sws_flags bicubic -pix_fmt rgb24 -vcodec rawvideo -\n",
>>>>>>> refs/remotes/origin/main
=======
      "{'video_found': True, 'audio_found': True, 'metadata': {'major_brand': 'isom', 'minor_version': '512', 'compatible_brands': 'isomiso2avc1mp41', 'encoder': 'Lavf61.1.100'}, 'inputs': [{'streams': [{'input_number': 0, 'stream_number': 0, 'stream_type': 'video', 'language': None, 'default': True, 'size': [1920, 1094], 'bitrate': 1089, 'fps': 60.0, 'codec_name': 'h264', 'profile': '(High)', 'metadata': {'Metadata': '', 'handler_name': 'Core Media Video', 'vendor_id': '[0][0][0][0]', 'encoder': 'Lavc61.3.100 libx264'}}, {'input_number': 0, 'stream_number': 1, 'stream_type': 'audio', 'language': None, 'default': True, 'fps': 44100, 'bitrate': 193, 'metadata': {'Metadata': '', 'handler_name': 'Core Media Audio', 'vendor_id': '[0][0][0][0]'}}], 'input_number': 0}], 'duration': 16.26, 'bitrate': 1296, 'start': 0.0, 'default_video_input_number': 0, 'default_video_stream_number': 0, 'video_codec_name': 'h264', 'video_profile': '(High)', 'video_size': [1920, 1094], 'video_bitrate': 1089, 'video_fps': 60.0, 'default_audio_input_number': 0, 'default_audio_stream_number': 1, 'audio_fps': 44100, 'audio_bitrate': 193, 'video_duration': 16.26, 'video_n_frames': 975}\n",
      "/Users/jamievuong/Library/Python/3.9/lib/python/site-packages/imageio_ffmpeg/binaries/ffmpeg-macos-aarch64-v7.1 -i ../data/video_hardest.mp4 -loglevel error -f image2pipe -vf scale=1920:1094 -sws_flags bicubic -pix_fmt rgb24 -vcodec rawvideo -\n",
>>>>>>> refs/remotes/origin/main
=======
      "{'video_found': True, 'audio_found': True, 'metadata': {'major_brand': 'isom', 'minor_version': '512', 'compatible_brands': 'isomiso2avc1mp41', 'encoder': 'Lavf61.1.100'}, 'inputs': [{'streams': [{'input_number': 0, 'stream_number': 0, 'stream_type': 'video', 'language': None, 'default': True, 'size': [1920, 1094], 'bitrate': 1089, 'fps': 60.0, 'codec_name': 'h264', 'profile': '(High)', 'metadata': {'Metadata': '', 'handler_name': 'Core Media Video', 'vendor_id': '[0][0][0][0]', 'encoder': 'Lavc61.3.100 libx264'}}, {'input_number': 0, 'stream_number': 1, 'stream_type': 'audio', 'language': None, 'default': True, 'fps': 44100, 'bitrate': 193, 'metadata': {'Metadata': '', 'handler_name': 'Core Media Audio', 'vendor_id': '[0][0][0][0]'}}], 'input_number': 0}], 'duration': 16.26, 'bitrate': 1296, 'start': 0.0, 'default_video_input_number': 0, 'default_video_stream_number': 0, 'video_codec_name': 'h264', 'video_profile': '(High)', 'video_size': [1920, 1094], 'video_bitrate': 1089, 'video_fps': 60.0, 'default_audio_input_number': 0, 'default_audio_stream_number': 1, 'audio_fps': 44100, 'audio_bitrate': 193, 'video_duration': 16.26, 'video_n_frames': 975}\n",
      "/Users/jamievuong/Library/Python/3.9/lib/python/site-packages/imageio_ffmpeg/binaries/ffmpeg-macos-aarch64-v7.1 -i ../data/video_hardest.mp4 -loglevel error -f image2pipe -vf scale=1920:1094 -sws_flags bicubic -pix_fmt rgb24 -vcodec rawvideo -\n",
>>>>>>> refs/remotes/origin/main
      "MoviePy - Writing audio in ../data/video_audio.mp3\n"
     ]
    },
    {
     "name": "stderr",
     "output_type": "stream",
     "text": [
<<<<<<< HEAD
<<<<<<< HEAD
<<<<<<< HEAD
<<<<<<< HEAD
<<<<<<< HEAD
<<<<<<< HEAD
      "                                                                      \r"
=======
      "                                                        \r"
>>>>>>> refs/remotes/origin/main
=======
      "                                                        \r"
>>>>>>> refs/remotes/origin/main
=======
      "                                                        \r"
>>>>>>> refs/remotes/origin/main
=======
      "                                                        \r"
>>>>>>> refs/remotes/origin/main
=======
      "                                                        \r"
>>>>>>> refs/remotes/origin/main
=======
      "                                                        \r"
>>>>>>> refs/remotes/origin/main
     ]
    },
    {
     "name": "stdout",
     "output_type": "stream",
     "text": [
      "MoviePy - Done.\n",
<<<<<<< HEAD
<<<<<<< HEAD
<<<<<<< HEAD
<<<<<<< HEAD
<<<<<<< HEAD
<<<<<<< HEAD
      "Segment 0: 0-6, Song: Sugar, Artist: Maroon 5, Album: Will Be Loved EP, Genre: Pop\n",
      "Segment 1: 6-12, Song: Sugar, Artist: Maroon 5, Album: Will Be Loved EP, Genre: Pop\n",
      "Segment 2: 12-18, Song: What Makes You Beautiful, Artist: One Direction, Album: Up All Night, Genre: Pop\n",
      "Segment 3: 18-24, Song: What Makes You Beautiful, Artist: One Direction, Album: Up All Night, Genre: Pop\n",
      "Segment 4: 24-30, Song: What Makes You Beautiful, Artist: One Direction, Album: Up All Night, Genre: Pop\n",
      "Segment 5: 30-36, Song: What Makes You Beautiful, Artist: One Direction, Album: Up All Night, Genre: Pop\n",
      "Segment 6: 36-42, Song: What Makes You Beautiful, Artist: One Direction, Album: Up All Night, Genre: Pop\n",
      "Segment 7: 42-48, Song: What Makes You Beautiful, Artist: One Direction, Album: Up All Night, Genre: Pop\n",
      "Could not recognize the track.\n",
      "Could not recognize the track.\n",
      "Could not recognize the track.\n",
      "Could not recognize the track.\n",
      "Could not recognize the track.\n",
      "Segment 13: 78-84, Song: Sugar, Artist: Maroon 5, Album: Will Be Loved EP, Genre: Pop\n",
      "Segment 14: 84-90, Song: Sugar, Artist: Maroon 5, Album: Will Be Loved EP, Genre: Pop\n",
      "Segment 15: 90-96, Song: Last Friday Night (T.G.I.F.), Artist: Katy Perry, Album: Teenage Dream, Genre: Teen Pop\n",
      "Segment 16: 96-102, Song: Last Friday Night (T.G.I.F.), Artist: Katy Perry, Album: Teenage Dream, Genre: Teen Pop\n",
      "Segment 17: 102-108, Song: Last Friday Night (T.G.I.F.), Artist: Katy Perry, Album: Teenage Dream, Genre: Teen Pop\n",
      "Segment 18: 108-114, Song: Last Friday Night (T.G.I.F.), Artist: Katy Perry, Album: Teenage Dream, Genre: Teen Pop\n",
      "Segment 19: 114-120, Song: What Makes You Beautiful, Artist: One Direction, Album: Up All Night, Genre: Pop\n",
      "Segment 20: 120-126, Song: What Makes You Beautiful, Artist: One Direction, Album: Up All Night, Genre: Pop\n",
      "Segment 21: 126-132, Song: What Makes You Beautiful, Artist: One Direction, Album: Up All Night, Genre: Pop\n",
      "Segment 22: 132-138, Song: What Makes You Beautiful, Artist: One Direction, Album: Up All Night, Genre: Pop\n",
      "Segment 23: 138-144, Song: What Makes You Beautiful, Artist: One Direction, Album: Up All Night, Genre: Pop\n",
      "Segment 24: 144-146, Song: What Makes You Beautiful, Artist: One Direction, Album: Up All Night, Genre: Pop\n"
=======
      "{'matches': [{'id': '358771124', 'offset': 44.082152343000004, 'timeskew': -0.015942633, 'frequencyskew': -0.00075149536}], 'location': {'accuracy': 0.01}, 'timestamp': 2904837807, 'timezone': 'Europe/Moscow', 'track': {'layout': '5', 'type': 'MUSIC', 'key': '273536255', 'title': 'Sugar', 'subtitle': 'Maroon 5', 'images': {'background': 'https://is1-ssl.mzstatic.com/image/thumb/AMCArtistImages116/v4/c3/3f/9a/c33f9a77-7395-bdfe-8068-a4b66d26531e/3ea423ea-6cf0-498a-a692-cc58da556f11_ami-identity-06acd526b8e5ef0283735a165e8eed70-2023-05-19T16-33-45.049Z_cropped.png/800x800cc.jpg', 'coverart': 'https://is1-ssl.mzstatic.com/image/thumb/Music115/v4/ac/20/32/ac203235-b03b-0e60-e03d-1ea1ee53aceb/14UMGIM31675.rgb.jpg/400x400cc.jpg', 'coverarthq': 'https://is1-ssl.mzstatic.com/image/thumb/Music115/v4/ac/20/32/ac203235-b03b-0e60-e03d-1ea1ee53aceb/14UMGIM31675.rgb.jpg/400x400cc.jpg', 'joecolor': 'b:6dace4p:0f0a0es:232233t:222b39q:313e56'}, 'share': {'subject': 'Sugar - Maroon 5', 'text': 'Sugar by Maroon 5', 'href': 'https://www.shazam.com/track/273536255/sugar', 'image': 'https://is1-ssl.mzstatic.com/image/thumb/Music115/v4/ac/20/32/ac203235-b03b-0e60-e03d-1ea1ee53aceb/14UMGIM31675.rgb.jpg/400x400cc.jpg', 'twitter': 'I used @Shazam to discover Sugar by Maroon 5.', 'html': 'https://www.shazam.com/snippets/email-share/273536255?lang=en-US&country=GB', 'avatar': 'https://is1-ssl.mzstatic.com/image/thumb/AMCArtistImages116/v4/c3/3f/9a/c33f9a77-7395-bdfe-8068-a4b66d26531e/3ea423ea-6cf0-498a-a692-cc58da556f11_ami-identity-06acd526b8e5ef0283735a165e8eed70-2023-05-19T16-33-45.049Z_cropped.png/800x800cc.jpg', 'snapchat': 'https://www.shazam.com/partner/sc/track/273536255'}, 'hub': {'type': 'APPLEMUSIC', 'image': 'https://images.shazam.com/static/icons/hub/android/v5/applemusic_{scalefactor}.png', 'actions': [{'name': 'apple', 'type': 'applemusicplay', 'id': '1422652341'}, {'name': 'apple', 'type': 'uri', 'uri': 'https://audio-ssl.itunes.apple.com/itunes-assets/AudioPreview122/v4/b7/59/d6/b759d6c0-d817-c95c-cf5b-ccdae41ff0f7/mzaf_14100567041763127460.plus.aac.ep.m4a'}], 'options': [{'caption': 'OPEN IN', 'actions': [{'name': 'hub:applemusic:deeplink', 'type': 'intent', 'uri': 'intent://music.apple.com/gb/album/sugar/1422651829?i=1422652341&mttnagencyid=s2n&mttnsiteid=125115&mttn3pid=Apple-Shazam&mttnsub1=Shazam_android_am&mttnsub2=5348615A-616D-3235-3830-44754D6D5973&itscg=30201&app=music&itsct=Shazam_android_am#Intent;scheme=http;package=com.apple.android.music;action=android.intent.action.VIEW;end'}, {'name': 'hub:applemusic:connect', 'type': 'applemusicconnect', 'id': '1422652341', 'uri': 'https://unsupported.shazam.com'}, {'name': 'hub:applemusic:androidstore', 'type': 'uri', 'uri': 'https://play.google.com/store/apps/details?id=com.apple.android.music&referrer=utm_source=https%3A%2F%2Fmusic.apple.com%2Fsubscribe%3Fmttnagencyid%3Ds2n%26mttnsiteid%3D125115%26mttn3pid%3DApple-Shazam%26mttnsub1%3DShazam_android_am%26mttnsub2%3D5348615A-616D-3235-3830-44754D6D5973%26itscg%3D30201%26app%3Dmusic%26itsct%3DShazam_android_am'}], 'beacondata': {'type': 'open', 'providername': 'applemusic'}, 'image': 'https://images.shazam.com/static/icons/hub/android/v5/overflow-open-option_{scalefactor}.png', 'type': 'open', 'listcaption': 'Open in Apple Music', 'overflowimage': 'https://images.shazam.com/static/icons/hub/android/v5/applemusic-overflow_{scalefactor}.png', 'colouroverflowimage': False, 'providername': 'applemusic'}], 'providers': [{'caption': 'Open in Spotify', 'images': {'overflow': 'https://images.shazam.com/static/icons/hub/android/v5/spotify-overflow_{scalefactor}.png', 'default': 'https://images.shazam.com/static/icons/hub/android/v5/spotify_{scalefactor}.png'}, 'actions': [{'name': 'hub:spotify:searchdeeplink', 'type': 'uri', 'uri': 'spotify:search:Sugar%20Maroon%205'}], 'type': 'SPOTIFY'}, {'caption': 'Open in YouTube Music', 'images': {'overflow': 'https://images.shazam.com/static/icons/hub/android/v5/youtubemusic-overflow_{scalefactor}.png', 'default': 'https://images.shazam.com/static/icons/hub/android/v5/youtubemusic_{scalefactor}.png'}, 'actions': [{'name': 'hub:youtubemusic:androiddeeplink', 'type': 'uri', 'uri': 'https://music.youtube.com/search?q=Sugar+Maroon+5&feature=shazam'}], 'type': 'YOUTUBEMUSIC'}, {'caption': 'Open in Deezer', 'images': {'overflow': 'https://images.shazam.com/static/icons/hub/android/v5/deezer-overflow_{scalefactor}.png', 'default': 'https://images.shazam.com/static/icons/hub/android/v5/deezer_{scalefactor}.png'}, 'actions': [{'name': 'hub:deezer:searchdeeplink', 'type': 'uri', 'uri': 'deezer-query://www.deezer.com/play?query=%7Btrack%3A%27Sugar%27%20artist%3A%27Maroon+5%27%7D'}], 'type': 'DEEZER'}], 'explicit': True, 'displayname': 'APPLE MUSIC'}, 'sections': [{'type': 'SONG', 'metapages': [{'image': 'https://is1-ssl.mzstatic.com/image/thumb/AMCArtistImages116/v4/c3/3f/9a/c33f9a77-7395-bdfe-8068-a4b66d26531e/3ea423ea-6cf0-498a-a692-cc58da556f11_ami-identity-06acd526b8e5ef0283735a165e8eed70-2023-05-19T16-33-45.049Z_cropped.png/800x800cc.jpg', 'caption': 'Maroon 5'}, {'image': 'https://is1-ssl.mzstatic.com/image/thumb/Music115/v4/ac/20/32/ac203235-b03b-0e60-e03d-1ea1ee53aceb/14UMGIM31675.rgb.jpg/400x400cc.jpg', 'caption': 'Sugar'}], 'tabname': 'Song', 'metadata': [{'title': 'Album', 'text': 'V (Deluxe)'}, {'title': 'Label', 'text': 'Interscope Records*'}, {'title': 'Released', 'text': '2014'}]}, {'type': 'RELATED', 'url': 'https://cdn.shazam.com/shazam/v3/en-US/GB/android/-/tracks/track-similarities-id-273536255?startFrom=0&pageSize=20&connected=', 'tabname': 'Related'}], 'url': 'https://www.shazam.com/track/273536255/sugar', 'artists': [{'id': '42', 'adamid': '1798556'}], 'isrc': 'USUM71410340', 'genres': {'primary': 'Pop'}, 'urlparams': {'{tracktitle}': 'Sugar', '{trackartist}': 'Maroon+5'}, 'highlightsurls': {}, 'relatedtracksurl': 'https://cdn.shazam.com/shazam/v3/en-US/GB/android/-/tracks/track-similarities-id-273536255?startFrom=0&pageSize=20&connected=', 'albumadamid': '1422651829'}, 'tagid': '322A836A-0FE7-451C-A10D-BD27D66DBF2D'}\n",
      "Song: Sugar, Artist: Maroon 5, Album: V (Deluxe), Genre: Pop\n"
>>>>>>> refs/remotes/origin/main
=======
      "{'matches': [{'id': '358771124', 'offset': 44.082152343000004, 'timeskew': -0.015942633, 'frequencyskew': -0.00075149536}], 'location': {'accuracy': 0.01}, 'timestamp': 2904837807, 'timezone': 'Europe/Moscow', 'track': {'layout': '5', 'type': 'MUSIC', 'key': '273536255', 'title': 'Sugar', 'subtitle': 'Maroon 5', 'images': {'background': 'https://is1-ssl.mzstatic.com/image/thumb/AMCArtistImages116/v4/c3/3f/9a/c33f9a77-7395-bdfe-8068-a4b66d26531e/3ea423ea-6cf0-498a-a692-cc58da556f11_ami-identity-06acd526b8e5ef0283735a165e8eed70-2023-05-19T16-33-45.049Z_cropped.png/800x800cc.jpg', 'coverart': 'https://is1-ssl.mzstatic.com/image/thumb/Music115/v4/ac/20/32/ac203235-b03b-0e60-e03d-1ea1ee53aceb/14UMGIM31675.rgb.jpg/400x400cc.jpg', 'coverarthq': 'https://is1-ssl.mzstatic.com/image/thumb/Music115/v4/ac/20/32/ac203235-b03b-0e60-e03d-1ea1ee53aceb/14UMGIM31675.rgb.jpg/400x400cc.jpg', 'joecolor': 'b:6dace4p:0f0a0es:232233t:222b39q:313e56'}, 'share': {'subject': 'Sugar - Maroon 5', 'text': 'Sugar by Maroon 5', 'href': 'https://www.shazam.com/track/273536255/sugar', 'image': 'https://is1-ssl.mzstatic.com/image/thumb/Music115/v4/ac/20/32/ac203235-b03b-0e60-e03d-1ea1ee53aceb/14UMGIM31675.rgb.jpg/400x400cc.jpg', 'twitter': 'I used @Shazam to discover Sugar by Maroon 5.', 'html': 'https://www.shazam.com/snippets/email-share/273536255?lang=en-US&country=GB', 'avatar': 'https://is1-ssl.mzstatic.com/image/thumb/AMCArtistImages116/v4/c3/3f/9a/c33f9a77-7395-bdfe-8068-a4b66d26531e/3ea423ea-6cf0-498a-a692-cc58da556f11_ami-identity-06acd526b8e5ef0283735a165e8eed70-2023-05-19T16-33-45.049Z_cropped.png/800x800cc.jpg', 'snapchat': 'https://www.shazam.com/partner/sc/track/273536255'}, 'hub': {'type': 'APPLEMUSIC', 'image': 'https://images.shazam.com/static/icons/hub/android/v5/applemusic_{scalefactor}.png', 'actions': [{'name': 'apple', 'type': 'applemusicplay', 'id': '1422652341'}, {'name': 'apple', 'type': 'uri', 'uri': 'https://audio-ssl.itunes.apple.com/itunes-assets/AudioPreview122/v4/b7/59/d6/b759d6c0-d817-c95c-cf5b-ccdae41ff0f7/mzaf_14100567041763127460.plus.aac.ep.m4a'}], 'options': [{'caption': 'OPEN IN', 'actions': [{'name': 'hub:applemusic:deeplink', 'type': 'intent', 'uri': 'intent://music.apple.com/gb/album/sugar/1422651829?i=1422652341&mttnagencyid=s2n&mttnsiteid=125115&mttn3pid=Apple-Shazam&mttnsub1=Shazam_android_am&mttnsub2=5348615A-616D-3235-3830-44754D6D5973&itscg=30201&app=music&itsct=Shazam_android_am#Intent;scheme=http;package=com.apple.android.music;action=android.intent.action.VIEW;end'}, {'name': 'hub:applemusic:connect', 'type': 'applemusicconnect', 'id': '1422652341', 'uri': 'https://unsupported.shazam.com'}, {'name': 'hub:applemusic:androidstore', 'type': 'uri', 'uri': 'https://play.google.com/store/apps/details?id=com.apple.android.music&referrer=utm_source=https%3A%2F%2Fmusic.apple.com%2Fsubscribe%3Fmttnagencyid%3Ds2n%26mttnsiteid%3D125115%26mttn3pid%3DApple-Shazam%26mttnsub1%3DShazam_android_am%26mttnsub2%3D5348615A-616D-3235-3830-44754D6D5973%26itscg%3D30201%26app%3Dmusic%26itsct%3DShazam_android_am'}], 'beacondata': {'type': 'open', 'providername': 'applemusic'}, 'image': 'https://images.shazam.com/static/icons/hub/android/v5/overflow-open-option_{scalefactor}.png', 'type': 'open', 'listcaption': 'Open in Apple Music', 'overflowimage': 'https://images.shazam.com/static/icons/hub/android/v5/applemusic-overflow_{scalefactor}.png', 'colouroverflowimage': False, 'providername': 'applemusic'}], 'providers': [{'caption': 'Open in Spotify', 'images': {'overflow': 'https://images.shazam.com/static/icons/hub/android/v5/spotify-overflow_{scalefactor}.png', 'default': 'https://images.shazam.com/static/icons/hub/android/v5/spotify_{scalefactor}.png'}, 'actions': [{'name': 'hub:spotify:searchdeeplink', 'type': 'uri', 'uri': 'spotify:search:Sugar%20Maroon%205'}], 'type': 'SPOTIFY'}, {'caption': 'Open in YouTube Music', 'images': {'overflow': 'https://images.shazam.com/static/icons/hub/android/v5/youtubemusic-overflow_{scalefactor}.png', 'default': 'https://images.shazam.com/static/icons/hub/android/v5/youtubemusic_{scalefactor}.png'}, 'actions': [{'name': 'hub:youtubemusic:androiddeeplink', 'type': 'uri', 'uri': 'https://music.youtube.com/search?q=Sugar+Maroon+5&feature=shazam'}], 'type': 'YOUTUBEMUSIC'}, {'caption': 'Open in Deezer', 'images': {'overflow': 'https://images.shazam.com/static/icons/hub/android/v5/deezer-overflow_{scalefactor}.png', 'default': 'https://images.shazam.com/static/icons/hub/android/v5/deezer_{scalefactor}.png'}, 'actions': [{'name': 'hub:deezer:searchdeeplink', 'type': 'uri', 'uri': 'deezer-query://www.deezer.com/play?query=%7Btrack%3A%27Sugar%27%20artist%3A%27Maroon+5%27%7D'}], 'type': 'DEEZER'}], 'explicit': True, 'displayname': 'APPLE MUSIC'}, 'sections': [{'type': 'SONG', 'metapages': [{'image': 'https://is1-ssl.mzstatic.com/image/thumb/AMCArtistImages116/v4/c3/3f/9a/c33f9a77-7395-bdfe-8068-a4b66d26531e/3ea423ea-6cf0-498a-a692-cc58da556f11_ami-identity-06acd526b8e5ef0283735a165e8eed70-2023-05-19T16-33-45.049Z_cropped.png/800x800cc.jpg', 'caption': 'Maroon 5'}, {'image': 'https://is1-ssl.mzstatic.com/image/thumb/Music115/v4/ac/20/32/ac203235-b03b-0e60-e03d-1ea1ee53aceb/14UMGIM31675.rgb.jpg/400x400cc.jpg', 'caption': 'Sugar'}], 'tabname': 'Song', 'metadata': [{'title': 'Album', 'text': 'V (Deluxe)'}, {'title': 'Label', 'text': 'Interscope Records*'}, {'title': 'Released', 'text': '2014'}]}, {'type': 'RELATED', 'url': 'https://cdn.shazam.com/shazam/v3/en-US/GB/android/-/tracks/track-similarities-id-273536255?startFrom=0&pageSize=20&connected=', 'tabname': 'Related'}], 'url': 'https://www.shazam.com/track/273536255/sugar', 'artists': [{'id': '42', 'adamid': '1798556'}], 'isrc': 'USUM71410340', 'genres': {'primary': 'Pop'}, 'urlparams': {'{tracktitle}': 'Sugar', '{trackartist}': 'Maroon+5'}, 'highlightsurls': {}, 'relatedtracksurl': 'https://cdn.shazam.com/shazam/v3/en-US/GB/android/-/tracks/track-similarities-id-273536255?startFrom=0&pageSize=20&connected=', 'albumadamid': '1422651829'}, 'tagid': '322A836A-0FE7-451C-A10D-BD27D66DBF2D'}\n",
      "Song: Sugar, Artist: Maroon 5, Album: V (Deluxe), Genre: Pop\n"
>>>>>>> refs/remotes/origin/main
=======
      "{'matches': [{'id': '358771124', 'offset': 44.082152343000004, 'timeskew': -0.015942633, 'frequencyskew': -0.00075149536}], 'location': {'accuracy': 0.01}, 'timestamp': 2904837807, 'timezone': 'Europe/Moscow', 'track': {'layout': '5', 'type': 'MUSIC', 'key': '273536255', 'title': 'Sugar', 'subtitle': 'Maroon 5', 'images': {'background': 'https://is1-ssl.mzstatic.com/image/thumb/AMCArtistImages116/v4/c3/3f/9a/c33f9a77-7395-bdfe-8068-a4b66d26531e/3ea423ea-6cf0-498a-a692-cc58da556f11_ami-identity-06acd526b8e5ef0283735a165e8eed70-2023-05-19T16-33-45.049Z_cropped.png/800x800cc.jpg', 'coverart': 'https://is1-ssl.mzstatic.com/image/thumb/Music115/v4/ac/20/32/ac203235-b03b-0e60-e03d-1ea1ee53aceb/14UMGIM31675.rgb.jpg/400x400cc.jpg', 'coverarthq': 'https://is1-ssl.mzstatic.com/image/thumb/Music115/v4/ac/20/32/ac203235-b03b-0e60-e03d-1ea1ee53aceb/14UMGIM31675.rgb.jpg/400x400cc.jpg', 'joecolor': 'b:6dace4p:0f0a0es:232233t:222b39q:313e56'}, 'share': {'subject': 'Sugar - Maroon 5', 'text': 'Sugar by Maroon 5', 'href': 'https://www.shazam.com/track/273536255/sugar', 'image': 'https://is1-ssl.mzstatic.com/image/thumb/Music115/v4/ac/20/32/ac203235-b03b-0e60-e03d-1ea1ee53aceb/14UMGIM31675.rgb.jpg/400x400cc.jpg', 'twitter': 'I used @Shazam to discover Sugar by Maroon 5.', 'html': 'https://www.shazam.com/snippets/email-share/273536255?lang=en-US&country=GB', 'avatar': 'https://is1-ssl.mzstatic.com/image/thumb/AMCArtistImages116/v4/c3/3f/9a/c33f9a77-7395-bdfe-8068-a4b66d26531e/3ea423ea-6cf0-498a-a692-cc58da556f11_ami-identity-06acd526b8e5ef0283735a165e8eed70-2023-05-19T16-33-45.049Z_cropped.png/800x800cc.jpg', 'snapchat': 'https://www.shazam.com/partner/sc/track/273536255'}, 'hub': {'type': 'APPLEMUSIC', 'image': 'https://images.shazam.com/static/icons/hub/android/v5/applemusic_{scalefactor}.png', 'actions': [{'name': 'apple', 'type': 'applemusicplay', 'id': '1422652341'}, {'name': 'apple', 'type': 'uri', 'uri': 'https://audio-ssl.itunes.apple.com/itunes-assets/AudioPreview122/v4/b7/59/d6/b759d6c0-d817-c95c-cf5b-ccdae41ff0f7/mzaf_14100567041763127460.plus.aac.ep.m4a'}], 'options': [{'caption': 'OPEN IN', 'actions': [{'name': 'hub:applemusic:deeplink', 'type': 'intent', 'uri': 'intent://music.apple.com/gb/album/sugar/1422651829?i=1422652341&mttnagencyid=s2n&mttnsiteid=125115&mttn3pid=Apple-Shazam&mttnsub1=Shazam_android_am&mttnsub2=5348615A-616D-3235-3830-44754D6D5973&itscg=30201&app=music&itsct=Shazam_android_am#Intent;scheme=http;package=com.apple.android.music;action=android.intent.action.VIEW;end'}, {'name': 'hub:applemusic:connect', 'type': 'applemusicconnect', 'id': '1422652341', 'uri': 'https://unsupported.shazam.com'}, {'name': 'hub:applemusic:androidstore', 'type': 'uri', 'uri': 'https://play.google.com/store/apps/details?id=com.apple.android.music&referrer=utm_source=https%3A%2F%2Fmusic.apple.com%2Fsubscribe%3Fmttnagencyid%3Ds2n%26mttnsiteid%3D125115%26mttn3pid%3DApple-Shazam%26mttnsub1%3DShazam_android_am%26mttnsub2%3D5348615A-616D-3235-3830-44754D6D5973%26itscg%3D30201%26app%3Dmusic%26itsct%3DShazam_android_am'}], 'beacondata': {'type': 'open', 'providername': 'applemusic'}, 'image': 'https://images.shazam.com/static/icons/hub/android/v5/overflow-open-option_{scalefactor}.png', 'type': 'open', 'listcaption': 'Open in Apple Music', 'overflowimage': 'https://images.shazam.com/static/icons/hub/android/v5/applemusic-overflow_{scalefactor}.png', 'colouroverflowimage': False, 'providername': 'applemusic'}], 'providers': [{'caption': 'Open in Spotify', 'images': {'overflow': 'https://images.shazam.com/static/icons/hub/android/v5/spotify-overflow_{scalefactor}.png', 'default': 'https://images.shazam.com/static/icons/hub/android/v5/spotify_{scalefactor}.png'}, 'actions': [{'name': 'hub:spotify:searchdeeplink', 'type': 'uri', 'uri': 'spotify:search:Sugar%20Maroon%205'}], 'type': 'SPOTIFY'}, {'caption': 'Open in YouTube Music', 'images': {'overflow': 'https://images.shazam.com/static/icons/hub/android/v5/youtubemusic-overflow_{scalefactor}.png', 'default': 'https://images.shazam.com/static/icons/hub/android/v5/youtubemusic_{scalefactor}.png'}, 'actions': [{'name': 'hub:youtubemusic:androiddeeplink', 'type': 'uri', 'uri': 'https://music.youtube.com/search?q=Sugar+Maroon+5&feature=shazam'}], 'type': 'YOUTUBEMUSIC'}, {'caption': 'Open in Deezer', 'images': {'overflow': 'https://images.shazam.com/static/icons/hub/android/v5/deezer-overflow_{scalefactor}.png', 'default': 'https://images.shazam.com/static/icons/hub/android/v5/deezer_{scalefactor}.png'}, 'actions': [{'name': 'hub:deezer:searchdeeplink', 'type': 'uri', 'uri': 'deezer-query://www.deezer.com/play?query=%7Btrack%3A%27Sugar%27%20artist%3A%27Maroon+5%27%7D'}], 'type': 'DEEZER'}], 'explicit': True, 'displayname': 'APPLE MUSIC'}, 'sections': [{'type': 'SONG', 'metapages': [{'image': 'https://is1-ssl.mzstatic.com/image/thumb/AMCArtistImages116/v4/c3/3f/9a/c33f9a77-7395-bdfe-8068-a4b66d26531e/3ea423ea-6cf0-498a-a692-cc58da556f11_ami-identity-06acd526b8e5ef0283735a165e8eed70-2023-05-19T16-33-45.049Z_cropped.png/800x800cc.jpg', 'caption': 'Maroon 5'}, {'image': 'https://is1-ssl.mzstatic.com/image/thumb/Music115/v4/ac/20/32/ac203235-b03b-0e60-e03d-1ea1ee53aceb/14UMGIM31675.rgb.jpg/400x400cc.jpg', 'caption': 'Sugar'}], 'tabname': 'Song', 'metadata': [{'title': 'Album', 'text': 'V (Deluxe)'}, {'title': 'Label', 'text': 'Interscope Records*'}, {'title': 'Released', 'text': '2014'}]}, {'type': 'RELATED', 'url': 'https://cdn.shazam.com/shazam/v3/en-US/GB/android/-/tracks/track-similarities-id-273536255?startFrom=0&pageSize=20&connected=', 'tabname': 'Related'}], 'url': 'https://www.shazam.com/track/273536255/sugar', 'artists': [{'id': '42', 'adamid': '1798556'}], 'isrc': 'USUM71410340', 'genres': {'primary': 'Pop'}, 'urlparams': {'{tracktitle}': 'Sugar', '{trackartist}': 'Maroon+5'}, 'highlightsurls': {}, 'relatedtracksurl': 'https://cdn.shazam.com/shazam/v3/en-US/GB/android/-/tracks/track-similarities-id-273536255?startFrom=0&pageSize=20&connected=', 'albumadamid': '1422651829'}, 'tagid': '322A836A-0FE7-451C-A10D-BD27D66DBF2D'}\n",
      "Song: Sugar, Artist: Maroon 5, Album: V (Deluxe), Genre: Pop\n"
>>>>>>> refs/remotes/origin/main
=======
      "{'matches': [{'id': '358771124', 'offset': 44.082152343000004, 'timeskew': -0.015942633, 'frequencyskew': -0.00075149536}], 'location': {'accuracy': 0.01}, 'timestamp': 2904837807, 'timezone': 'Europe/Moscow', 'track': {'layout': '5', 'type': 'MUSIC', 'key': '273536255', 'title': 'Sugar', 'subtitle': 'Maroon 5', 'images': {'background': 'https://is1-ssl.mzstatic.com/image/thumb/AMCArtistImages116/v4/c3/3f/9a/c33f9a77-7395-bdfe-8068-a4b66d26531e/3ea423ea-6cf0-498a-a692-cc58da556f11_ami-identity-06acd526b8e5ef0283735a165e8eed70-2023-05-19T16-33-45.049Z_cropped.png/800x800cc.jpg', 'coverart': 'https://is1-ssl.mzstatic.com/image/thumb/Music115/v4/ac/20/32/ac203235-b03b-0e60-e03d-1ea1ee53aceb/14UMGIM31675.rgb.jpg/400x400cc.jpg', 'coverarthq': 'https://is1-ssl.mzstatic.com/image/thumb/Music115/v4/ac/20/32/ac203235-b03b-0e60-e03d-1ea1ee53aceb/14UMGIM31675.rgb.jpg/400x400cc.jpg', 'joecolor': 'b:6dace4p:0f0a0es:232233t:222b39q:313e56'}, 'share': {'subject': 'Sugar - Maroon 5', 'text': 'Sugar by Maroon 5', 'href': 'https://www.shazam.com/track/273536255/sugar', 'image': 'https://is1-ssl.mzstatic.com/image/thumb/Music115/v4/ac/20/32/ac203235-b03b-0e60-e03d-1ea1ee53aceb/14UMGIM31675.rgb.jpg/400x400cc.jpg', 'twitter': 'I used @Shazam to discover Sugar by Maroon 5.', 'html': 'https://www.shazam.com/snippets/email-share/273536255?lang=en-US&country=GB', 'avatar': 'https://is1-ssl.mzstatic.com/image/thumb/AMCArtistImages116/v4/c3/3f/9a/c33f9a77-7395-bdfe-8068-a4b66d26531e/3ea423ea-6cf0-498a-a692-cc58da556f11_ami-identity-06acd526b8e5ef0283735a165e8eed70-2023-05-19T16-33-45.049Z_cropped.png/800x800cc.jpg', 'snapchat': 'https://www.shazam.com/partner/sc/track/273536255'}, 'hub': {'type': 'APPLEMUSIC', 'image': 'https://images.shazam.com/static/icons/hub/android/v5/applemusic_{scalefactor}.png', 'actions': [{'name': 'apple', 'type': 'applemusicplay', 'id': '1422652341'}, {'name': 'apple', 'type': 'uri', 'uri': 'https://audio-ssl.itunes.apple.com/itunes-assets/AudioPreview122/v4/b7/59/d6/b759d6c0-d817-c95c-cf5b-ccdae41ff0f7/mzaf_14100567041763127460.plus.aac.ep.m4a'}], 'options': [{'caption': 'OPEN IN', 'actions': [{'name': 'hub:applemusic:deeplink', 'type': 'intent', 'uri': 'intent://music.apple.com/gb/album/sugar/1422651829?i=1422652341&mttnagencyid=s2n&mttnsiteid=125115&mttn3pid=Apple-Shazam&mttnsub1=Shazam_android_am&mttnsub2=5348615A-616D-3235-3830-44754D6D5973&itscg=30201&app=music&itsct=Shazam_android_am#Intent;scheme=http;package=com.apple.android.music;action=android.intent.action.VIEW;end'}, {'name': 'hub:applemusic:connect', 'type': 'applemusicconnect', 'id': '1422652341', 'uri': 'https://unsupported.shazam.com'}, {'name': 'hub:applemusic:androidstore', 'type': 'uri', 'uri': 'https://play.google.com/store/apps/details?id=com.apple.android.music&referrer=utm_source=https%3A%2F%2Fmusic.apple.com%2Fsubscribe%3Fmttnagencyid%3Ds2n%26mttnsiteid%3D125115%26mttn3pid%3DApple-Shazam%26mttnsub1%3DShazam_android_am%26mttnsub2%3D5348615A-616D-3235-3830-44754D6D5973%26itscg%3D30201%26app%3Dmusic%26itsct%3DShazam_android_am'}], 'beacondata': {'type': 'open', 'providername': 'applemusic'}, 'image': 'https://images.shazam.com/static/icons/hub/android/v5/overflow-open-option_{scalefactor}.png', 'type': 'open', 'listcaption': 'Open in Apple Music', 'overflowimage': 'https://images.shazam.com/static/icons/hub/android/v5/applemusic-overflow_{scalefactor}.png', 'colouroverflowimage': False, 'providername': 'applemusic'}], 'providers': [{'caption': 'Open in Spotify', 'images': {'overflow': 'https://images.shazam.com/static/icons/hub/android/v5/spotify-overflow_{scalefactor}.png', 'default': 'https://images.shazam.com/static/icons/hub/android/v5/spotify_{scalefactor}.png'}, 'actions': [{'name': 'hub:spotify:searchdeeplink', 'type': 'uri', 'uri': 'spotify:search:Sugar%20Maroon%205'}], 'type': 'SPOTIFY'}, {'caption': 'Open in YouTube Music', 'images': {'overflow': 'https://images.shazam.com/static/icons/hub/android/v5/youtubemusic-overflow_{scalefactor}.png', 'default': 'https://images.shazam.com/static/icons/hub/android/v5/youtubemusic_{scalefactor}.png'}, 'actions': [{'name': 'hub:youtubemusic:androiddeeplink', 'type': 'uri', 'uri': 'https://music.youtube.com/search?q=Sugar+Maroon+5&feature=shazam'}], 'type': 'YOUTUBEMUSIC'}, {'caption': 'Open in Deezer', 'images': {'overflow': 'https://images.shazam.com/static/icons/hub/android/v5/deezer-overflow_{scalefactor}.png', 'default': 'https://images.shazam.com/static/icons/hub/android/v5/deezer_{scalefactor}.png'}, 'actions': [{'name': 'hub:deezer:searchdeeplink', 'type': 'uri', 'uri': 'deezer-query://www.deezer.com/play?query=%7Btrack%3A%27Sugar%27%20artist%3A%27Maroon+5%27%7D'}], 'type': 'DEEZER'}], 'explicit': True, 'displayname': 'APPLE MUSIC'}, 'sections': [{'type': 'SONG', 'metapages': [{'image': 'https://is1-ssl.mzstatic.com/image/thumb/AMCArtistImages116/v4/c3/3f/9a/c33f9a77-7395-bdfe-8068-a4b66d26531e/3ea423ea-6cf0-498a-a692-cc58da556f11_ami-identity-06acd526b8e5ef0283735a165e8eed70-2023-05-19T16-33-45.049Z_cropped.png/800x800cc.jpg', 'caption': 'Maroon 5'}, {'image': 'https://is1-ssl.mzstatic.com/image/thumb/Music115/v4/ac/20/32/ac203235-b03b-0e60-e03d-1ea1ee53aceb/14UMGIM31675.rgb.jpg/400x400cc.jpg', 'caption': 'Sugar'}], 'tabname': 'Song', 'metadata': [{'title': 'Album', 'text': 'V (Deluxe)'}, {'title': 'Label', 'text': 'Interscope Records*'}, {'title': 'Released', 'text': '2014'}]}, {'type': 'RELATED', 'url': 'https://cdn.shazam.com/shazam/v3/en-US/GB/android/-/tracks/track-similarities-id-273536255?startFrom=0&pageSize=20&connected=', 'tabname': 'Related'}], 'url': 'https://www.shazam.com/track/273536255/sugar', 'artists': [{'id': '42', 'adamid': '1798556'}], 'isrc': 'USUM71410340', 'genres': {'primary': 'Pop'}, 'urlparams': {'{tracktitle}': 'Sugar', '{trackartist}': 'Maroon+5'}, 'highlightsurls': {}, 'relatedtracksurl': 'https://cdn.shazam.com/shazam/v3/en-US/GB/android/-/tracks/track-similarities-id-273536255?startFrom=0&pageSize=20&connected=', 'albumadamid': '1422651829'}, 'tagid': '322A836A-0FE7-451C-A10D-BD27D66DBF2D'}\n",
      "Song: Sugar, Artist: Maroon 5, Album: V (Deluxe), Genre: Pop\n"
>>>>>>> refs/remotes/origin/main
=======
      "{'matches': [{'id': '358771124', 'offset': 44.082152343000004, 'timeskew': -0.015942633, 'frequencyskew': -0.00075149536}], 'location': {'accuracy': 0.01}, 'timestamp': 2904837807, 'timezone': 'Europe/Moscow', 'track': {'layout': '5', 'type': 'MUSIC', 'key': '273536255', 'title': 'Sugar', 'subtitle': 'Maroon 5', 'images': {'background': 'https://is1-ssl.mzstatic.com/image/thumb/AMCArtistImages116/v4/c3/3f/9a/c33f9a77-7395-bdfe-8068-a4b66d26531e/3ea423ea-6cf0-498a-a692-cc58da556f11_ami-identity-06acd526b8e5ef0283735a165e8eed70-2023-05-19T16-33-45.049Z_cropped.png/800x800cc.jpg', 'coverart': 'https://is1-ssl.mzstatic.com/image/thumb/Music115/v4/ac/20/32/ac203235-b03b-0e60-e03d-1ea1ee53aceb/14UMGIM31675.rgb.jpg/400x400cc.jpg', 'coverarthq': 'https://is1-ssl.mzstatic.com/image/thumb/Music115/v4/ac/20/32/ac203235-b03b-0e60-e03d-1ea1ee53aceb/14UMGIM31675.rgb.jpg/400x400cc.jpg', 'joecolor': 'b:6dace4p:0f0a0es:232233t:222b39q:313e56'}, 'share': {'subject': 'Sugar - Maroon 5', 'text': 'Sugar by Maroon 5', 'href': 'https://www.shazam.com/track/273536255/sugar', 'image': 'https://is1-ssl.mzstatic.com/image/thumb/Music115/v4/ac/20/32/ac203235-b03b-0e60-e03d-1ea1ee53aceb/14UMGIM31675.rgb.jpg/400x400cc.jpg', 'twitter': 'I used @Shazam to discover Sugar by Maroon 5.', 'html': 'https://www.shazam.com/snippets/email-share/273536255?lang=en-US&country=GB', 'avatar': 'https://is1-ssl.mzstatic.com/image/thumb/AMCArtistImages116/v4/c3/3f/9a/c33f9a77-7395-bdfe-8068-a4b66d26531e/3ea423ea-6cf0-498a-a692-cc58da556f11_ami-identity-06acd526b8e5ef0283735a165e8eed70-2023-05-19T16-33-45.049Z_cropped.png/800x800cc.jpg', 'snapchat': 'https://www.shazam.com/partner/sc/track/273536255'}, 'hub': {'type': 'APPLEMUSIC', 'image': 'https://images.shazam.com/static/icons/hub/android/v5/applemusic_{scalefactor}.png', 'actions': [{'name': 'apple', 'type': 'applemusicplay', 'id': '1422652341'}, {'name': 'apple', 'type': 'uri', 'uri': 'https://audio-ssl.itunes.apple.com/itunes-assets/AudioPreview122/v4/b7/59/d6/b759d6c0-d817-c95c-cf5b-ccdae41ff0f7/mzaf_14100567041763127460.plus.aac.ep.m4a'}], 'options': [{'caption': 'OPEN IN', 'actions': [{'name': 'hub:applemusic:deeplink', 'type': 'intent', 'uri': 'intent://music.apple.com/gb/album/sugar/1422651829?i=1422652341&mttnagencyid=s2n&mttnsiteid=125115&mttn3pid=Apple-Shazam&mttnsub1=Shazam_android_am&mttnsub2=5348615A-616D-3235-3830-44754D6D5973&itscg=30201&app=music&itsct=Shazam_android_am#Intent;scheme=http;package=com.apple.android.music;action=android.intent.action.VIEW;end'}, {'name': 'hub:applemusic:connect', 'type': 'applemusicconnect', 'id': '1422652341', 'uri': 'https://unsupported.shazam.com'}, {'name': 'hub:applemusic:androidstore', 'type': 'uri', 'uri': 'https://play.google.com/store/apps/details?id=com.apple.android.music&referrer=utm_source=https%3A%2F%2Fmusic.apple.com%2Fsubscribe%3Fmttnagencyid%3Ds2n%26mttnsiteid%3D125115%26mttn3pid%3DApple-Shazam%26mttnsub1%3DShazam_android_am%26mttnsub2%3D5348615A-616D-3235-3830-44754D6D5973%26itscg%3D30201%26app%3Dmusic%26itsct%3DShazam_android_am'}], 'beacondata': {'type': 'open', 'providername': 'applemusic'}, 'image': 'https://images.shazam.com/static/icons/hub/android/v5/overflow-open-option_{scalefactor}.png', 'type': 'open', 'listcaption': 'Open in Apple Music', 'overflowimage': 'https://images.shazam.com/static/icons/hub/android/v5/applemusic-overflow_{scalefactor}.png', 'colouroverflowimage': False, 'providername': 'applemusic'}], 'providers': [{'caption': 'Open in Spotify', 'images': {'overflow': 'https://images.shazam.com/static/icons/hub/android/v5/spotify-overflow_{scalefactor}.png', 'default': 'https://images.shazam.com/static/icons/hub/android/v5/spotify_{scalefactor}.png'}, 'actions': [{'name': 'hub:spotify:searchdeeplink', 'type': 'uri', 'uri': 'spotify:search:Sugar%20Maroon%205'}], 'type': 'SPOTIFY'}, {'caption': 'Open in YouTube Music', 'images': {'overflow': 'https://images.shazam.com/static/icons/hub/android/v5/youtubemusic-overflow_{scalefactor}.png', 'default': 'https://images.shazam.com/static/icons/hub/android/v5/youtubemusic_{scalefactor}.png'}, 'actions': [{'name': 'hub:youtubemusic:androiddeeplink', 'type': 'uri', 'uri': 'https://music.youtube.com/search?q=Sugar+Maroon+5&feature=shazam'}], 'type': 'YOUTUBEMUSIC'}, {'caption': 'Open in Deezer', 'images': {'overflow': 'https://images.shazam.com/static/icons/hub/android/v5/deezer-overflow_{scalefactor}.png', 'default': 'https://images.shazam.com/static/icons/hub/android/v5/deezer_{scalefactor}.png'}, 'actions': [{'name': 'hub:deezer:searchdeeplink', 'type': 'uri', 'uri': 'deezer-query://www.deezer.com/play?query=%7Btrack%3A%27Sugar%27%20artist%3A%27Maroon+5%27%7D'}], 'type': 'DEEZER'}], 'explicit': True, 'displayname': 'APPLE MUSIC'}, 'sections': [{'type': 'SONG', 'metapages': [{'image': 'https://is1-ssl.mzstatic.com/image/thumb/AMCArtistImages116/v4/c3/3f/9a/c33f9a77-7395-bdfe-8068-a4b66d26531e/3ea423ea-6cf0-498a-a692-cc58da556f11_ami-identity-06acd526b8e5ef0283735a165e8eed70-2023-05-19T16-33-45.049Z_cropped.png/800x800cc.jpg', 'caption': 'Maroon 5'}, {'image': 'https://is1-ssl.mzstatic.com/image/thumb/Music115/v4/ac/20/32/ac203235-b03b-0e60-e03d-1ea1ee53aceb/14UMGIM31675.rgb.jpg/400x400cc.jpg', 'caption': 'Sugar'}], 'tabname': 'Song', 'metadata': [{'title': 'Album', 'text': 'V (Deluxe)'}, {'title': 'Label', 'text': 'Interscope Records*'}, {'title': 'Released', 'text': '2014'}]}, {'type': 'RELATED', 'url': 'https://cdn.shazam.com/shazam/v3/en-US/GB/android/-/tracks/track-similarities-id-273536255?startFrom=0&pageSize=20&connected=', 'tabname': 'Related'}], 'url': 'https://www.shazam.com/track/273536255/sugar', 'artists': [{'id': '42', 'adamid': '1798556'}], 'isrc': 'USUM71410340', 'genres': {'primary': 'Pop'}, 'urlparams': {'{tracktitle}': 'Sugar', '{trackartist}': 'Maroon+5'}, 'highlightsurls': {}, 'relatedtracksurl': 'https://cdn.shazam.com/shazam/v3/en-US/GB/android/-/tracks/track-similarities-id-273536255?startFrom=0&pageSize=20&connected=', 'albumadamid': '1422651829'}, 'tagid': '322A836A-0FE7-451C-A10D-BD27D66DBF2D'}\n",
      "Song: Sugar, Artist: Maroon 5, Album: V (Deluxe), Genre: Pop\n"
>>>>>>> refs/remotes/origin/main
=======
      "{'matches': [{'id': '358771124', 'offset': 44.082152343000004, 'timeskew': -0.015942633, 'frequencyskew': -0.00075149536}], 'location': {'accuracy': 0.01}, 'timestamp': 2904837807, 'timezone': 'Europe/Moscow', 'track': {'layout': '5', 'type': 'MUSIC', 'key': '273536255', 'title': 'Sugar', 'subtitle': 'Maroon 5', 'images': {'background': 'https://is1-ssl.mzstatic.com/image/thumb/AMCArtistImages116/v4/c3/3f/9a/c33f9a77-7395-bdfe-8068-a4b66d26531e/3ea423ea-6cf0-498a-a692-cc58da556f11_ami-identity-06acd526b8e5ef0283735a165e8eed70-2023-05-19T16-33-45.049Z_cropped.png/800x800cc.jpg', 'coverart': 'https://is1-ssl.mzstatic.com/image/thumb/Music115/v4/ac/20/32/ac203235-b03b-0e60-e03d-1ea1ee53aceb/14UMGIM31675.rgb.jpg/400x400cc.jpg', 'coverarthq': 'https://is1-ssl.mzstatic.com/image/thumb/Music115/v4/ac/20/32/ac203235-b03b-0e60-e03d-1ea1ee53aceb/14UMGIM31675.rgb.jpg/400x400cc.jpg', 'joecolor': 'b:6dace4p:0f0a0es:232233t:222b39q:313e56'}, 'share': {'subject': 'Sugar - Maroon 5', 'text': 'Sugar by Maroon 5', 'href': 'https://www.shazam.com/track/273536255/sugar', 'image': 'https://is1-ssl.mzstatic.com/image/thumb/Music115/v4/ac/20/32/ac203235-b03b-0e60-e03d-1ea1ee53aceb/14UMGIM31675.rgb.jpg/400x400cc.jpg', 'twitter': 'I used @Shazam to discover Sugar by Maroon 5.', 'html': 'https://www.shazam.com/snippets/email-share/273536255?lang=en-US&country=GB', 'avatar': 'https://is1-ssl.mzstatic.com/image/thumb/AMCArtistImages116/v4/c3/3f/9a/c33f9a77-7395-bdfe-8068-a4b66d26531e/3ea423ea-6cf0-498a-a692-cc58da556f11_ami-identity-06acd526b8e5ef0283735a165e8eed70-2023-05-19T16-33-45.049Z_cropped.png/800x800cc.jpg', 'snapchat': 'https://www.shazam.com/partner/sc/track/273536255'}, 'hub': {'type': 'APPLEMUSIC', 'image': 'https://images.shazam.com/static/icons/hub/android/v5/applemusic_{scalefactor}.png', 'actions': [{'name': 'apple', 'type': 'applemusicplay', 'id': '1422652341'}, {'name': 'apple', 'type': 'uri', 'uri': 'https://audio-ssl.itunes.apple.com/itunes-assets/AudioPreview122/v4/b7/59/d6/b759d6c0-d817-c95c-cf5b-ccdae41ff0f7/mzaf_14100567041763127460.plus.aac.ep.m4a'}], 'options': [{'caption': 'OPEN IN', 'actions': [{'name': 'hub:applemusic:deeplink', 'type': 'intent', 'uri': 'intent://music.apple.com/gb/album/sugar/1422651829?i=1422652341&mttnagencyid=s2n&mttnsiteid=125115&mttn3pid=Apple-Shazam&mttnsub1=Shazam_android_am&mttnsub2=5348615A-616D-3235-3830-44754D6D5973&itscg=30201&app=music&itsct=Shazam_android_am#Intent;scheme=http;package=com.apple.android.music;action=android.intent.action.VIEW;end'}, {'name': 'hub:applemusic:connect', 'type': 'applemusicconnect', 'id': '1422652341', 'uri': 'https://unsupported.shazam.com'}, {'name': 'hub:applemusic:androidstore', 'type': 'uri', 'uri': 'https://play.google.com/store/apps/details?id=com.apple.android.music&referrer=utm_source=https%3A%2F%2Fmusic.apple.com%2Fsubscribe%3Fmttnagencyid%3Ds2n%26mttnsiteid%3D125115%26mttn3pid%3DApple-Shazam%26mttnsub1%3DShazam_android_am%26mttnsub2%3D5348615A-616D-3235-3830-44754D6D5973%26itscg%3D30201%26app%3Dmusic%26itsct%3DShazam_android_am'}], 'beacondata': {'type': 'open', 'providername': 'applemusic'}, 'image': 'https://images.shazam.com/static/icons/hub/android/v5/overflow-open-option_{scalefactor}.png', 'type': 'open', 'listcaption': 'Open in Apple Music', 'overflowimage': 'https://images.shazam.com/static/icons/hub/android/v5/applemusic-overflow_{scalefactor}.png', 'colouroverflowimage': False, 'providername': 'applemusic'}], 'providers': [{'caption': 'Open in Spotify', 'images': {'overflow': 'https://images.shazam.com/static/icons/hub/android/v5/spotify-overflow_{scalefactor}.png', 'default': 'https://images.shazam.com/static/icons/hub/android/v5/spotify_{scalefactor}.png'}, 'actions': [{'name': 'hub:spotify:searchdeeplink', 'type': 'uri', 'uri': 'spotify:search:Sugar%20Maroon%205'}], 'type': 'SPOTIFY'}, {'caption': 'Open in YouTube Music', 'images': {'overflow': 'https://images.shazam.com/static/icons/hub/android/v5/youtubemusic-overflow_{scalefactor}.png', 'default': 'https://images.shazam.com/static/icons/hub/android/v5/youtubemusic_{scalefactor}.png'}, 'actions': [{'name': 'hub:youtubemusic:androiddeeplink', 'type': 'uri', 'uri': 'https://music.youtube.com/search?q=Sugar+Maroon+5&feature=shazam'}], 'type': 'YOUTUBEMUSIC'}, {'caption': 'Open in Deezer', 'images': {'overflow': 'https://images.shazam.com/static/icons/hub/android/v5/deezer-overflow_{scalefactor}.png', 'default': 'https://images.shazam.com/static/icons/hub/android/v5/deezer_{scalefactor}.png'}, 'actions': [{'name': 'hub:deezer:searchdeeplink', 'type': 'uri', 'uri': 'deezer-query://www.deezer.com/play?query=%7Btrack%3A%27Sugar%27%20artist%3A%27Maroon+5%27%7D'}], 'type': 'DEEZER'}], 'explicit': True, 'displayname': 'APPLE MUSIC'}, 'sections': [{'type': 'SONG', 'metapages': [{'image': 'https://is1-ssl.mzstatic.com/image/thumb/AMCArtistImages116/v4/c3/3f/9a/c33f9a77-7395-bdfe-8068-a4b66d26531e/3ea423ea-6cf0-498a-a692-cc58da556f11_ami-identity-06acd526b8e5ef0283735a165e8eed70-2023-05-19T16-33-45.049Z_cropped.png/800x800cc.jpg', 'caption': 'Maroon 5'}, {'image': 'https://is1-ssl.mzstatic.com/image/thumb/Music115/v4/ac/20/32/ac203235-b03b-0e60-e03d-1ea1ee53aceb/14UMGIM31675.rgb.jpg/400x400cc.jpg', 'caption': 'Sugar'}], 'tabname': 'Song', 'metadata': [{'title': 'Album', 'text': 'V (Deluxe)'}, {'title': 'Label', 'text': 'Interscope Records*'}, {'title': 'Released', 'text': '2014'}]}, {'type': 'RELATED', 'url': 'https://cdn.shazam.com/shazam/v3/en-US/GB/android/-/tracks/track-similarities-id-273536255?startFrom=0&pageSize=20&connected=', 'tabname': 'Related'}], 'url': 'https://www.shazam.com/track/273536255/sugar', 'artists': [{'id': '42', 'adamid': '1798556'}], 'isrc': 'USUM71410340', 'genres': {'primary': 'Pop'}, 'urlparams': {'{tracktitle}': 'Sugar', '{trackartist}': 'Maroon+5'}, 'highlightsurls': {}, 'relatedtracksurl': 'https://cdn.shazam.com/shazam/v3/en-US/GB/android/-/tracks/track-similarities-id-273536255?startFrom=0&pageSize=20&connected=', 'albumadamid': '1422651829'}, 'tagid': '322A836A-0FE7-451C-A10D-BD27D66DBF2D'}\n",
      "Song: Sugar, Artist: Maroon 5, Album: V (Deluxe), Genre: Pop\n"
>>>>>>> refs/remotes/origin/main
     ]
    }
   ],
   "source": [
<<<<<<< HEAD
<<<<<<< HEAD
<<<<<<< HEAD
<<<<<<< HEAD
<<<<<<< HEAD
<<<<<<< HEAD
    "nest_asyncio.apply()\n",
    "\n",
    "# Disable SSL verification\n",
    "ssl_context = ssl.create_default_context()\n",
    "ssl_context.check_hostname = False\n",
    "ssl_context.verify_mode = ssl.CERT_NONE\n",
    "\n",
    "async def download_audio(youtube_url: str, output_path: str, cookies_path: str):\n",
    "    ydl_opts = {\n",
    "        'format': 'bestvideo+bestaudio/best',\n",
    "        'outtmpl': output_path,\n",
    "        'noplaylist': True,         # Ensure only the single video is downloaded\n",
    "        'overwrites': True,         # Overwrite the file if it already exists\n",
    "        'cookies': cookies_path,    # Use cookies file\n",
    "    }\n",
    "    with yt_dlp.YoutubeDL(ydl_opts) as ydl:\n",
    "        ydl.download([youtube_url])\n",
    "\n",
    "async def recognize_song_from_youtube(url):\n",
    "    ydl_opts = {\n",
    "        'format': 'bestaudio/best',\n",
    "        'postprocessors': [{\n",
    "            'key': 'FFmpegExtractAudio',\n",
    "            'preferredcodec': 'mp3',\n",
    "            'preferredquality': '192',\n",
    "        }],\n",
    "        'outtmpl': 'temp_audio.%(ext)s',\n",
    "        'quiet': True\n",
=======
    "import asyncio\n",
    "from shazamio import Shazam\n",
    "import yt_dlp\n",
    "import nest_asyncio\n",
    "from moviepy import VideoFileClip\n",
    "\n",
    "nest_asyncio.apply()\n",
    "\n",
    "async def download_audio(youtube_url: str, output_path: str, cookies_path: str):\n",
    "    ydl_opts = {\n",
=======
    "import asyncio\n",
    "from shazamio import Shazam\n",
    "import yt_dlp\n",
    "import nest_asyncio\n",
    "from moviepy import VideoFileClip\n",
    "\n",
    "nest_asyncio.apply()\n",
    "\n",
    "async def download_audio(youtube_url: str, output_path: str, cookies_path: str):\n",
    "    ydl_opts = {\n",
>>>>>>> refs/remotes/origin/main
=======
    "import asyncio\n",
    "from shazamio import Shazam\n",
    "import yt_dlp\n",
    "import nest_asyncio\n",
    "from moviepy import VideoFileClip\n",
    "\n",
    "nest_asyncio.apply()\n",
    "\n",
    "async def download_audio(youtube_url: str, output_path: str, cookies_path: str):\n",
    "    ydl_opts = {\n",
>>>>>>> refs/remotes/origin/main
=======
    "import asyncio\n",
    "from shazamio import Shazam\n",
    "import yt_dlp\n",
    "import nest_asyncio\n",
    "from moviepy import VideoFileClip\n",
    "\n",
    "nest_asyncio.apply()\n",
    "\n",
    "async def download_audio(youtube_url: str, output_path: str, cookies_path: str):\n",
    "    ydl_opts = {\n",
>>>>>>> refs/remotes/origin/main
=======
    "import asyncio\n",
    "from shazamio import Shazam\n",
    "import yt_dlp\n",
    "import nest_asyncio\n",
    "from moviepy import VideoFileClip\n",
    "\n",
    "nest_asyncio.apply()\n",
    "\n",
    "async def download_audio(youtube_url: str, output_path: str, cookies_path: str):\n",
    "    ydl_opts = {\n",
>>>>>>> refs/remotes/origin/main
=======
    "import asyncio\n",
    "from shazamio import Shazam\n",
    "import yt_dlp\n",
    "import nest_asyncio\n",
    "from moviepy import VideoFileClip\n",
    "\n",
    "nest_asyncio.apply()\n",
    "\n",
    "async def download_audio(youtube_url: str, output_path: str, cookies_path: str):\n",
    "    ydl_opts = {\n",
>>>>>>> refs/remotes/origin/main
    "        'format': 'bestvideo+bestaudio/best',\n",
    "        'outtmpl': output_path,\n",
    "        'noplaylist': True,         # Ensure only the single video is downloaded\n",
    "        'overwrites': True,         # Overwrite the file if it already exists\n",
    "        'cookies': cookies_path,    # Use cookies file\n",
<<<<<<< HEAD
<<<<<<< HEAD
<<<<<<< HEAD
<<<<<<< HEAD
<<<<<<< HEAD
>>>>>>> refs/remotes/origin/main
=======
>>>>>>> refs/remotes/origin/main
=======
>>>>>>> refs/remotes/origin/main
=======
>>>>>>> refs/remotes/origin/main
=======
>>>>>>> refs/remotes/origin/main
=======
>>>>>>> refs/remotes/origin/main
    "    }\n",
    "    with yt_dlp.YoutubeDL(ydl_opts) as ydl:\n",
    "        info_dict = ydl.extract_info(url, download=False)\n",
    "        audio_url = info_dict['url']\n",
    "    shazam = Shazam()\n",
    "    out = await shazam.recognize_song(audio_url)\n",
    "    if 'track' in out:\n",
    "        track = out['track']\n",
    "        song_title = track.get('title', 'Unknown Title')\n",
    "        artist_name = track.get('subtitle', 'Unknown Artist')\n",
    "        album_name = track.get('sections', [{}])[0].get('metadata', [{}])[0].get('text', 'Unknown Album')\n",
    "        genre = track.get('genres', {}).get('primary', 'Unknown Genre')\n",
    "        print(f\"Song: {song_title}, Artist: {artist_name}, Album: {album_name}, Genre: {genre}\")\n",
    "    else:\n",
    "        print(\"Could not recognize the track.\")\n",
    "\n",
<<<<<<< HEAD
<<<<<<< HEAD
<<<<<<< HEAD
<<<<<<< HEAD
<<<<<<< HEAD
<<<<<<< HEAD
    "async def recognize_track(file_path: str, segment_duration: int = 8):\n",
    "    shazam = Shazam()\n",
    "    audio = AudioSegment.from_file(file_path)\n",
    "    duration = len(audio) // 1000  # Convert to seconds\n",
    "    results = []\n",
    "    i = 0\n",
    "    for start in range(0, duration, segment_duration):\n",
    "        end = min(start + segment_duration, duration)\n",
    "        segment = audio[start * 1000:end * 1000]\n",
    "        file_path = f\"../data/temp_segment{i}.mp3\"\n",
    "        segment.export(file_path, format=\"mp3\")\n",
    "        out = await shazam.recognize(file_path)\n",
    "        os.remove(file_path)\n",
    "        # print(out)\n",
    "        if 'track' in out:\n",
    "            track = out['track']\n",
    "            song_title = track.get('title', 'Unknown Title')\n",
    "            artist_name = track.get('subtitle', 'Unknown Artist')\n",
    "            album_name = track.get('sections', [{}])[0].get('metadata', [{}])[0].get('text', 'Unknown Album')\n",
    "            genre = track.get('genres', {}).get('primary', 'Unknown Genre')\n",
    "            print(f\"Segment {i}: {start}-{end}, Song: {song_title}, Artist: {artist_name}, Album: {album_name}, Genre: {genre}\")\n",
    "            results.append({\n",
    "                'segment': i,\n",
    "                'start': start,\n",
    "                'end': end,\n",
    "                'song': song_title,\n",
    "                'artist': artist_name,\n",
    "                'album': album_name,\n",
    "                'genre': genre\n",
    "            })\n",
    "        else:\n",
    "            print(\"Could not recognize the track.\")\n",
    "            results.append({\n",
    "                'segment': i,\n",
    "                'start': start,\n",
    "                'end': end,\n",
    "                'song': \"None\",\n",
    "                'artist': None,\n",
    "                'album': None,\n",
    "                'genre': None\n",
    "            })\n",
    "        i += 1\n",
    "    return results\n",
=======
=======
>>>>>>> refs/remotes/origin/main
=======
>>>>>>> refs/remotes/origin/main
=======
>>>>>>> refs/remotes/origin/main
=======
>>>>>>> refs/remotes/origin/main
=======
>>>>>>> refs/remotes/origin/main
    "def convert_mp4_to_mp3(mp4_file, mp3_file):\n",
    "    video_clip = VideoFileClip(mp4_file)\n",
    "    audio_clip = video_clip.audio\n",
    "    audio_clip.write_audiofile(mp3_file)\n",
    "    audio_clip.close()\n",
    "    video_clip.close()\n",
<<<<<<< HEAD
<<<<<<< HEAD
<<<<<<< HEAD
<<<<<<< HEAD
<<<<<<< HEAD
=======
=======
=======
=======
=======
    "\n",
    "async def main():\n",
    "    cookies_file = '../data/cookies.txt'                            # Path to your cookies file\n",
    "    # youtube_url = 'https://www.youtube.com/shorts/lTqjbKZZ9vk'    # hard\n",
    "    # youtube_url = 'https://www.youtube.com/shorts/IykG5LsziGw'      # easy\n",
    "    # audio_file = '../data/video.webm'\n",
    "    # await download_audio(youtube_url, audio_file, cookies_file)\n",
    "\n",
    "    # audio_file = '../data/harder.mp3'\n",
    "\n",
    "    mp4_file = '../data/video_hardest.mp4'\n",
    "    audio_file = '../data/video_audio.mp3'\n",
    "    convert_mp4_to_mp3(mp4_file, audio_file)\n",
    "\n",
    "    await recognize_track(audio_file)\n",
>>>>>>> refs/remotes/origin/main
    "\n",
    "async def main():\n",
    "    cookies_file = '../data/cookies.txt'                            # Path to your cookies file\n",
    "    # youtube_url = 'https://www.youtube.com/shorts/lTqjbKZZ9vk'    # hard\n",
    "    # youtube_url = 'https://www.youtube.com/shorts/IykG5LsziGw'      # easy\n",
    "    # audio_file = '../data/video.webm'\n",
    "    # await download_audio(youtube_url, audio_file, cookies_file)\n",
    "\n",
    "    # audio_file = '../data/harder.mp3'\n",
    "\n",
    "    mp4_file = '../data/video_hardest.mp4'\n",
    "    audio_file = '../data/video_audio.mp3'\n",
    "    convert_mp4_to_mp3(mp4_file, audio_file)\n",
    "\n",
    "    await recognize_track(audio_file)\n",
>>>>>>> refs/remotes/origin/main
    "\n",
    "async def main():\n",
    "    cookies_file = '../data/cookies.txt'                            # Path to your cookies file\n",
    "    # youtube_url = 'https://www.youtube.com/shorts/lTqjbKZZ9vk'    # hard\n",
    "    # youtube_url = 'https://www.youtube.com/shorts/IykG5LsziGw'      # easy\n",
    "    # audio_file = '../data/video.webm'\n",
    "    # await download_audio(youtube_url, audio_file, cookies_file)\n",
    "\n",
    "    # audio_file = '../data/harder.mp3'\n",
    "\n",
    "    mp4_file = '../data/video_hardest.mp4'\n",
    "    audio_file = '../data/video_audio.mp3'\n",
    "    convert_mp4_to_mp3(mp4_file, audio_file)\n",
    "\n",
    "    await recognize_track(audio_file)\n",
>>>>>>> refs/remotes/origin/main
    "\n",
    "async def main():\n",
    "    cookies_file = '../data/cookies.txt'                            # Path to your cookies file\n",
    "    # youtube_url = 'https://www.youtube.com/shorts/lTqjbKZZ9vk'    # hard\n",
    "    # youtube_url = 'https://www.youtube.com/shorts/IykG5LsziGw'      # easy\n",
    "    # audio_file = '../data/video.webm'\n",
    "    # await download_audio(youtube_url, audio_file, cookies_file)\n",
    "\n",
    "    # audio_file = '../data/harder.mp3'\n",
    "\n",
    "    mp4_file = '../data/video_hardest.mp4'\n",
    "    audio_file = '../data/video_audio.mp3'\n",
    "    convert_mp4_to_mp3(mp4_file, audio_file)\n",
    "\n",
    "    await recognize_track(audio_file)\n",
>>>>>>> refs/remotes/origin/main
    "\n",
    "async def main():\n",
    "    cookies_file = '../data/cookies.txt'                            # Path to your cookies file\n",
    "    # youtube_url = 'https://www.youtube.com/shorts/lTqjbKZZ9vk'    # hard\n",
    "    # youtube_url = 'https://www.youtube.com/shorts/IykG5LsziGw'      # easy\n",
    "    # audio_file = '../data/video.webm'\n",
    "    # await download_audio(youtube_url, audio_file, cookies_file)\n",
    "\n",
    "    # audio_file = '../data/harder.mp3'\n",
    "\n",
    "    mp4_file = '../data/video_hardest.mp4'\n",
    "    audio_file = '../data/video_audio.mp3'\n",
    "    convert_mp4_to_mp3(mp4_file, audio_file)\n",
    "\n",
    "    await recognize_track(audio_file)\n",
>>>>>>> refs/remotes/origin/main
    "\n",
    "async def main():\n",
    "    cookies_file = '../data/cookies.txt'                            # Path to your cookies file\n",
    "    # youtube_url = 'https://www.youtube.com/shorts/lTqjbKZZ9vk'    # hard\n",
    "    # youtube_url = 'https://www.youtube.com/shorts/IykG5LsziGw'      # easy\n",
    "    # audio_file = '../data/video.webm'\n",
    "    # await download_audio(youtube_url, audio_file, cookies_file)\n",
    "\n",
    "    # audio_file = '../data/harder.mp3'\n",
    "\n",
    "    mp4_file = '../data/video_hardest.mp4'\n",
    "    audio_file = '../data/video_audio.mp3'\n",
    "    convert_mp4_to_mp3(mp4_file, audio_file)\n",
    "\n",
    "    await recognize_track(audio_file)\n",
>>>>>>> refs/remotes/origin/main
    "\n",
    "def convert_mp4_to_mp3(mp4_file, mp3_file):\n",
    "    video_clip = VideoFileClip(mp4_file)\n",
    "    audio_clip = video_clip.audio\n",
    "    audio_clip.write_audiofile(mp3_file)\n",
    "    audio_clip.close()\n",
    "    video_clip.close()\n",
    "\n",
    "segment_duration = 6                                            # seconds\n",
    "cookies_file = '../data/cookies.txt'                            # Path to your cookies file\n",
    "# youtube_url = 'https://www.youtube.com/shorts/lTqjbKZZ9vk'      # hard\n",
    "# youtube_url = 'https://www.youtube.com/shorts/IykG5LsziGw'      # easy\n",
    "youtube_url = 'https://www.youtube.com/watch?v=7vglAmBc9tY'     # detroit lion\n",
    "# audio_file = '../data/video.webm'\n",
    "# await download_audio(youtube_url, audio_file, cookies_file)\n",
    "# audio_file = '../data/harder.mp3'\n",
    "# asyncio.run(recognize_song_from_youtube(youtube_url))\n",
    "\n",
    "mp4_file = '../data/video_3_songs_mixed.mp4'\n",
    "audio_file = '../data/video_audio.mp3'\n",
    "convert_mp4_to_mp3(mp4_file, audio_file)\n",
    "\n",
    "result = await recognize_track(audio_file, segment_duration)\n"
   ]
  },
  {
   "cell_type": "code",
   "execution_count": 4,
   "metadata": {},
   "outputs": [
    {
     "name": "stdout",
     "output_type": "stream",
     "text": [
      "Song                          Artist           Start (second)    End (second)\n",
      "Sugar                         Maroon 5                      0              12\n",
      "What Makes You Beautiful      One Direction                12              48\n",
      "None                                                       48              78\n",
      "Sugar                         Maroon 5                     78              90\n",
      "Last Friday Night (T.G.I.F.)  Katy Perry                   90             114\n",
      "What Makes You Beautiful      One Direction               114             146\n"
     ]
    }
   ],
   "source": [
    "songs = []\n",
    "cur = (result[0]['song'], result[0]['artist'])\n",
    "start = result[0]['start']\n",
    "end = result[0]['end']\n",
    "for x in result:\n",
    "    if x['song'] == cur[0] and x['artist'] == cur[1]:\n",
    "        end = x['end']\n",
    "    else:\n",
    "        songs.append((cur[0], cur[1], start, end))\n",
    "        cur = (x['song'], x['artist'])\n",
    "        start = x['start']\n",
    "        end = x['end']\n",
    "songs.append((cur[0], cur[1], start, end))\n",
    "\n",
    "headers = ['Song', 'Artist', 'Start (second)', 'End (second)']\n",
    "print(tabulate(songs, headers=headers, tablefmt='plain'))"
   ]
  },
  {
   "cell_type": "code",
   "execution_count": null,
   "metadata": {},
   "outputs": [],
   "source": [
    "# !pip freeze | sed 's/ @ file:.*//' > ../requirements.txt"
   ]
  }
 ],
 "metadata": {
  "kernelspec": {
   "display_name": "Python 3",
   "language": "python",
   "name": "python3"
  },
  "language_info": {
   "codemirror_mode": {
    "name": "ipython",
    "version": 3
   },
   "file_extension": ".py",
   "mimetype": "text/x-python",
   "name": "python",
   "nbconvert_exporter": "python",
   "pygments_lexer": "ipython3",
   "version": "3.11.6"
  }
 },
 "nbformat": 4,
 "nbformat_minor": 2
}
