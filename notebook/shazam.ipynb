{
 "cells": [
  {
   "cell_type": "code",
   "execution_count": 14,
   "metadata": {},
   "outputs": [
    {
     "name": "stdout",
     "output_type": "stream",
     "text": [
      "[youtube] Extracting URL: https://www.youtube.com/shorts/IykG5LsziGw\n",
      "[youtube] IykG5LsziGw: Downloading webpage\n",
      "[youtube] IykG5LsziGw: Downloading tv player API JSON\n",
      "[youtube] IykG5LsziGw: Downloading ios player API JSON\n",
      "[youtube] IykG5LsziGw: Downloading m3u8 information\n",
      "[info] IykG5LsziGw: Downloading 1 format(s): 313+251\n",
      "Deleting existing file ../data/video.webm\n",
      "[download] Destination: ../data/video.f313.webm\n",
      "[download] 100% of   21.03MiB in 00:00:01 at 17.97MiB/s  \n",
      "[download] Destination: ../data/video.f251.webm\n",
      "[download] 100% of  258.05KiB in 00:00:00 at 1.02MiB/s   \n",
      "[Merger] Merging formats into \"../data/video.webm\"\n",
      "Deleting original file ../data/video.f251.webm (pass -k to keep)\n",
      "Deleting original file ../data/video.f313.webm (pass -k to keep)\n",
      "{'matches': [{'id': '446946230', 'offset': 41.297933593, 'timeskew': 0.00028979778, 'frequencyskew': 4.029274e-05}, {'id': '358771124', 'offset': 40.4221875, 'timeskew': -0.015807211, 'frequencyskew': 0.0004028082}, {'id': '263144442', 'offset': 41.39609375, 'timeskew': 0.0005184412, 'frequencyskew': 0.00012087822}, {'id': '704035871', 'offset': 41.230921875, 'timeskew': -0.00016129017, 'frequencyskew': 0.0006042719}, {'id': '327533541', 'offset': 41.30078906200001, 'timeskew': 0.0001462698, 'frequencyskew': 0.0006042719}, {'id': '493322312', 'offset': 41.276136718000004, 'timeskew': -0.0005068183, 'frequencyskew': 0.00024163723}, {'id': '299474831', 'offset': 41.121519531, 'timeskew': 0.00020647049, 'frequencyskew': 0.0005236864}, {'id': '505263703', 'offset': 75.65221093699999, 'timeskew': 0.0002425909, 'frequencyskew': 0.0013817549}], 'location': {'accuracy': 0.01}, 'timestamp': 2903274341, 'timezone': 'Europe/Moscow', 'track': {'layout': '5', 'type': 'MUSIC', 'key': '273536255', 'title': 'Sugar', 'subtitle': 'Maroon 5', 'images': {'background': 'https://is1-ssl.mzstatic.com/image/thumb/AMCArtistImages116/v4/c3/3f/9a/c33f9a77-7395-bdfe-8068-a4b66d26531e/3ea423ea-6cf0-498a-a692-cc58da556f11_ami-identity-06acd526b8e5ef0283735a165e8eed70-2023-05-19T16-33-45.049Z_cropped.png/800x800cc.jpg', 'coverart': 'https://is1-ssl.mzstatic.com/image/thumb/Music115/v4/ac/20/32/ac203235-b03b-0e60-e03d-1ea1ee53aceb/14UMGIM31675.rgb.jpg/400x400cc.jpg', 'coverarthq': 'https://is1-ssl.mzstatic.com/image/thumb/Music115/v4/ac/20/32/ac203235-b03b-0e60-e03d-1ea1ee53aceb/14UMGIM31675.rgb.jpg/400x400cc.jpg', 'joecolor': 'b:6dace4p:0f0a0es:232233t:222b39q:313e56'}, 'share': {'subject': 'Sugar - Maroon 5', 'text': 'Sugar by Maroon 5', 'href': 'https://www.shazam.com/track/273536255/sugar', 'image': 'https://is1-ssl.mzstatic.com/image/thumb/Music115/v4/ac/20/32/ac203235-b03b-0e60-e03d-1ea1ee53aceb/14UMGIM31675.rgb.jpg/400x400cc.jpg', 'twitter': 'I used @Shazam to discover Sugar by Maroon 5.', 'html': 'https://www.shazam.com/snippets/email-share/273536255?lang=en-US&country=GB', 'avatar': 'https://is1-ssl.mzstatic.com/image/thumb/AMCArtistImages116/v4/c3/3f/9a/c33f9a77-7395-bdfe-8068-a4b66d26531e/3ea423ea-6cf0-498a-a692-cc58da556f11_ami-identity-06acd526b8e5ef0283735a165e8eed70-2023-05-19T16-33-45.049Z_cropped.png/800x800cc.jpg', 'snapchat': 'https://www.shazam.com/partner/sc/track/273536255'}, 'hub': {'type': 'APPLEMUSIC', 'image': 'https://images.shazam.com/static/icons/hub/android/v5/applemusic_{scalefactor}.png', 'actions': [{'name': 'apple', 'type': 'applemusicplay', 'id': '1422652341'}, {'name': 'apple', 'type': 'uri', 'uri': 'https://audio-ssl.itunes.apple.com/itunes-assets/AudioPreview122/v4/b7/59/d6/b759d6c0-d817-c95c-cf5b-ccdae41ff0f7/mzaf_14100567041763127460.plus.aac.ep.m4a'}], 'options': [{'caption': 'OPEN IN', 'actions': [{'name': 'hub:applemusic:deeplink', 'type': 'intent', 'uri': 'intent://music.apple.com/gb/album/sugar/1422651829?i=1422652341&mttnagencyid=s2n&mttnsiteid=125115&mttn3pid=Apple-Shazam&mttnsub1=Shazam_android_am&mttnsub2=5348615A-616D-3235-3830-44754D6D5973&itscg=30201&app=music&itsct=Shazam_android_am#Intent;scheme=http;package=com.apple.android.music;action=android.intent.action.VIEW;end'}, {'name': 'hub:applemusic:connect', 'type': 'applemusicconnect', 'id': '1422652341', 'uri': 'https://unsupported.shazam.com'}, {'name': 'hub:applemusic:androidstore', 'type': 'uri', 'uri': 'https://play.google.com/store/apps/details?id=com.apple.android.music&referrer=utm_source=https%3A%2F%2Fmusic.apple.com%2Fsubscribe%3Fmttnagencyid%3Ds2n%26mttnsiteid%3D125115%26mttn3pid%3DApple-Shazam%26mttnsub1%3DShazam_android_am%26mttnsub2%3D5348615A-616D-3235-3830-44754D6D5973%26itscg%3D30201%26app%3Dmusic%26itsct%3DShazam_android_am'}], 'beacondata': {'type': 'open', 'providername': 'applemusic'}, 'image': 'https://images.shazam.com/static/icons/hub/android/v5/overflow-open-option_{scalefactor}.png', 'type': 'open', 'listcaption': 'Open in Apple Music', 'overflowimage': 'https://images.shazam.com/static/icons/hub/android/v5/applemusic-overflow_{scalefactor}.png', 'colouroverflowimage': False, 'providername': 'applemusic'}], 'providers': [{'caption': 'Open in Spotify', 'images': {'overflow': 'https://images.shazam.com/static/icons/hub/android/v5/spotify-overflow_{scalefactor}.png', 'default': 'https://images.shazam.com/static/icons/hub/android/v5/spotify_{scalefactor}.png'}, 'actions': [{'name': 'hub:spotify:searchdeeplink', 'type': 'uri', 'uri': 'spotify:search:Sugar%20Maroon%205'}], 'type': 'SPOTIFY'}, {'caption': 'Open in YouTube Music', 'images': {'overflow': 'https://images.shazam.com/static/icons/hub/android/v5/youtubemusic-overflow_{scalefactor}.png', 'default': 'https://images.shazam.com/static/icons/hub/android/v5/youtubemusic_{scalefactor}.png'}, 'actions': [{'name': 'hub:youtubemusic:androiddeeplink', 'type': 'uri', 'uri': 'https://music.youtube.com/search?q=Sugar+Maroon+5&feature=shazam'}], 'type': 'YOUTUBEMUSIC'}, {'caption': 'Open in Deezer', 'images': {'overflow': 'https://images.shazam.com/static/icons/hub/android/v5/deezer-overflow_{scalefactor}.png', 'default': 'https://images.shazam.com/static/icons/hub/android/v5/deezer_{scalefactor}.png'}, 'actions': [{'name': 'hub:deezer:searchdeeplink', 'type': 'uri', 'uri': 'deezer-query://www.deezer.com/play?query=%7Btrack%3A%27Sugar%27%20artist%3A%27Maroon+5%27%7D'}], 'type': 'DEEZER'}], 'explicit': True, 'displayname': 'APPLE MUSIC'}, 'sections': [{'type': 'SONG', 'metapages': [{'image': 'https://is1-ssl.mzstatic.com/image/thumb/AMCArtistImages116/v4/c3/3f/9a/c33f9a77-7395-bdfe-8068-a4b66d26531e/3ea423ea-6cf0-498a-a692-cc58da556f11_ami-identity-06acd526b8e5ef0283735a165e8eed70-2023-05-19T16-33-45.049Z_cropped.png/800x800cc.jpg', 'caption': 'Maroon 5'}, {'image': 'https://is1-ssl.mzstatic.com/image/thumb/Music115/v4/ac/20/32/ac203235-b03b-0e60-e03d-1ea1ee53aceb/14UMGIM31675.rgb.jpg/400x400cc.jpg', 'caption': 'Sugar'}], 'tabname': 'Song', 'metadata': [{'title': 'Album', 'text': 'V (Deluxe)'}, {'title': 'Label', 'text': 'Interscope Records*'}, {'title': 'Released', 'text': '2014'}]}, {'type': 'RELATED', 'url': 'https://cdn.shazam.com/shazam/v3/en-US/GB/android/-/tracks/track-similarities-id-273536255?startFrom=0&pageSize=20&connected=', 'tabname': 'Related'}], 'url': 'https://www.shazam.com/track/273536255/sugar', 'artists': [{'id': '42', 'adamid': '1798556'}], 'isrc': 'USUM71410340', 'genres': {'primary': 'Pop'}, 'urlparams': {'{tracktitle}': 'Sugar', '{trackartist}': 'Maroon+5'}, 'highlightsurls': {}, 'relatedtracksurl': 'https://cdn.shazam.com/shazam/v3/en-US/GB/android/-/tracks/track-similarities-id-273536255?startFrom=0&pageSize=20&connected=', 'albumadamid': '1422651829'}, 'tagid': '963D8957-C77A-4988-B2EF-E254A7E193FF'}\n",
      "Song: Sugar, Artist: Maroon 5\n"
     ]
    }
   ],
   "source": [
    "import asyncio\n",
    "from shazamio import Shazam\n",
    "import yt_dlp\n",
    "import nest_asyncio\n",
    "from moviepy import VideoFileClip\n",
    "\n",
    "nest_asyncio.apply()\n",
    "\n",
    "async def download_audio(youtube_url: str, output_path: str, cookies_path: str):\n",
    "    ydl_opts = {\n",
    "        'format': 'bestvideo+bestaudio/best',\n",
    "        'outtmpl': output_path,\n",
    "        'noplaylist': True,         # Ensure only the single video is downloaded\n",
    "        'overwrites': True,         # Overwrite the file if it already exists\n",
    "        'cookies': cookies_path,    # Use cookies file\n",
    "    }\n",
    "    with yt_dlp.YoutubeDL(ydl_opts) as ydl:\n",
    "        ydl.download([youtube_url])\n",
    "\n",
    "async def recognize_track(file_path: str):\n",
    "    shazam = Shazam()\n",
    "    out = await shazam.recognize(file_path)\n",
    "    print(out)\n",
    "    if 'track' in out:\n",
    "        track = out['track']\n",
    "        song_title = track.get('title', 'Unknown Title')\n",
    "        artist_name = track.get('subtitle', 'Unknown Artist')\n",
    "        print(f\"Song: {song_title}, Artist: {artist_name}\")\n",
    "    else:\n",
    "        print(\"Could not recognize the track.\")\n",
    "\n",
    "def convert_mp4_to_mp3(mp4_file, mp3_file):\n",
    "    video_clip = VideoFileClip(mp4_file)\n",
    "    audio_clip = video_clip.audio\n",
    "    audio_clip.write_audiofile(mp3_file)\n",
    "    audio_clip.close()\n",
    "    video_clip.close()\n",
    "\n",
    "async def main():\n",
    "    cookies_file = '../data/cookies.txt'                            # Path to your cookies file\n",
    "    # youtube_url = 'https://www.youtube.com/shorts/lTqjbKZZ9vk'    # hard\n",
    "    youtube_url = 'https://www.youtube.com/shorts/IykG5LsziGw'      # easy\n",
    "    audio_file = '../data/video.webm'\n",
    "    await download_audio(youtube_url, audio_file, cookies_file)\n",
    "\n",
    "    # audio_file = '../data/harder.mp3'\n",
    "\n",
    "    # mp4_file = '../data/harder.mp4'\n",
    "    # audio_file = '../data/video.mp3'\n",
    "    # convert_mp4_to_mp3(mp4_file, audio_file)\n",
    "\n",
    "    await recognize_track(audio_file)\n",
    "\n",
    "await main()"
   ]
  }
 ],
 "metadata": {
  "kernelspec": {
   "display_name": "Python 3",
   "language": "python",
   "name": "python3"
  },
  "language_info": {
   "codemirror_mode": {
    "name": "ipython",
    "version": 3
   },
   "file_extension": ".py",
   "mimetype": "text/x-python",
   "name": "python",
   "nbconvert_exporter": "python",
   "pygments_lexer": "ipython3",
   "version": "3.9.6"
  }
 },
 "nbformat": 4,
 "nbformat_minor": 2
}
